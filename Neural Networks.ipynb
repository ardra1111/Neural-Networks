{
 "cells": [
  {
   "cell_type": "markdown",
   "id": "705998a1-e20e-45bf-9ea3-ca365f9ed781",
   "metadata": {},
   "source": [
    " # UNDERSTANDING NUERAL NETWORKS\n"
   ]
  },
  {
   "cell_type": "markdown",
   "id": "31974b8a-12c7-45fc-a661-b4ae7a075016",
   "metadata": {},
   "source": [
    "<h4> Neural networks are powerful tools used in machine learning to mimic the way the human brain works. At their core, neural networks are composed of individual units called neurons, which are organized in layers and connected by weights. The McCulloch-Pitts model and the Perceptron are two fundamental building blocks of neural networks. </h4>"
   ]
  },
  {
   "cell_type": "markdown",
   "id": "d1fac000-6eef-4e08-b85f-aca259a86e4e",
   "metadata": {},
   "source": [
    "##  Exploring both the McCulloch-Pitts model and the Rosenblatt Perceptron  model."
   ]
  },
  {
   "cell_type": "markdown",
   "id": "55ac9e9b-993a-4475-bb82-e5f7172803eb",
   "metadata": {},
   "source": [
    "<h4> The McCulloch-Pitts model is a simplified mathematical model of a neuron's behavior. It takes binary inputs (0 or 1) and produces a binary output based on a set threshold. This model helps us understand how individual neurons process information and make decisions. </h4>"
   ]
  },
  {
   "cell_type": "markdown",
   "id": "4a91ae7a-7322-4d86-bdda-8d87d0eb492b",
   "metadata": {},
   "source": [
    "<h4> The Rosenblatt Perceptron  is an extension of the McCulloch-Pitts model that introduces the concept of weighted inputs. It takes multiple binary inputs, each multiplied by a corresponding weight, and produces a binary output based on a weighted sum. The Perceptron learns by adjusting its weights in response to training data, allowing it to make more accurate prediction. </h4>"
   ]
  },
  {
   "cell_type": "code",
   "execution_count": 1,
   "id": "98973bce-39b5-4218-888b-1635c394eff7",
   "metadata": {},
   "outputs": [],
   "source": [
    "import jupyter_manim\n",
    "import matplotlib.pyplot as plt\n",
    "import numpy as np\n",
    "import matplotlib.animation as animation"
   ]
  },
  {
   "cell_type": "markdown",
   "id": "9a78b179-62e2-4950-8beb-b8ff5447b919",
   "metadata": {},
   "source": [
    "<h4> We'll start by visualizing how these models work using animations, then we'll dive into the mathematical representations of each model using LaTeX. Let's get started! </h4>"
   ]
  },
  {
   "cell_type": "markdown",
   "id": "2149dc5b-32b5-45e3-8c0f-cc460c40670f",
   "metadata": {},
   "source": [
    "## McCulloch-Pitts Model\n",
    "<h4> The McCulloch-Pitts model is a simplified neural network model introduced by Warren McCulloch and Walter Pitts in 1943. </h4> \n",
    "<h4> It consists of a threshold unit that receives binary inputs and produces a binary output based on a threshold. </h4>\n",
    "<h4> We'll start by explaining the conceptual workings of the McCulloch-Pitts model.</h4>"
   ]
  },
  {
   "cell_type": "markdown",
   "id": "d4c5531d-f1bf-4e5d-8151-3dc0ec75f02e",
   "metadata": {},
   "source": [
    "##  Mathematical Representation of McCulloch-Pitts Model\n",
    "\n",
    "<h4>  Below is the LaTeX representation of the McCulloch-Pitts model, showing the mathematical formulation of its behavior.</h4>"
   ]
  },
  {
   "cell_type": "code",
   "execution_count": 2,
   "id": "3921de7e-781d-48b6-abbf-6b56d5098b14",
   "metadata": {},
   "outputs": [
    {
     "data": {
      "text/latex": [
       "\n",
       "  The McCulloch-Pitts model can be represented mathematically as follows:\n",
       "\n",
       "  Let $x_1$ and $x_2$ be the binary inputs ( $0$ or $1$ ) to the threshold unit.\n",
       "  The output ($y$) of the unit is determined by the condition:\n",
       "\n",
       "  $$ y = \\begin{cases}\n",
       "      \\color{green}{\\textbf{1}} & \\text{if } x_1 + x_2 \\geq \\text{threshold} \\\\\n",
       "      0 & \\text{otherwise}\n",
       "  \\end{cases} $$\n",
       "\n",
       "  $NOTE :$\n",
       "\n",
       "  The $threshold$ value is set to $2$ for $AND$ gate. This is because the maximum sum of inputs 1 + 1 = 2, and the output will be 1 only if the sum is greater than or equal to 2 (both inputs must be 1 for AND).\n",
       "  The threshold value is set to $1$ for $OR$ gate. If one of any two input greater than 0 then it will result in an output of 1 (y).\n",
       "  Therefore, the threshold is set to 1 to trigger the output for any non-zero input (at least one input must be 1 for OR).\n",
       "  \n",
       "  "
      ],
      "text/plain": [
       "<IPython.core.display.Latex object>"
      ]
     },
     "execution_count": 2,
     "metadata": {},
     "output_type": "execute_result"
    }
   ],
   "source": [
    "from IPython.display import Latex\n",
    "\n",
    "def latex_mp():\n",
    "  \"\"\"LaTeX representation of McCulloch-Pitts model with explanations\"\"\"\n",
    "  latex_repr = r\"\"\"\n",
    "  The McCulloch-Pitts model can be represented mathematically as follows:\n",
    "\n",
    "  Let $x_1$ and $x_2$ be the binary inputs ( $0$ or $1$ ) to the threshold unit.\n",
    "  The output ($y$) of the unit is determined by the condition:\n",
    "\n",
    "  $$ y = \\begin{cases}\n",
    "      \\color{green}{\\textbf{1}} & \\text{if } x_1 + x_2 \\geq \\text{threshold} \\\\\n",
    "      0 & \\text{otherwise}\n",
    "  \\end{cases} $$\n",
    "\n",
    "  $NOTE :$\n",
    "\n",
    "  The $threshold$ value is set to $2$ for $AND$ gate. This is because the maximum sum of inputs 1 + 1 = 2, and the output will be 1 only if the sum is greater than or equal to 2 (both inputs must be 1 for AND).\n",
    "  The threshold value is set to $1$ for $OR$ gate. If one of any two input greater than 0 then it will result in an output of 1 (y).\n",
    "  Therefore, the threshold is set to 1 to trigger the output for any non-zero input (at least one input must be 1 for OR).\n",
    "  \n",
    "  \"\"\"\n",
    "  return latex_repr\n",
    "\n",
    "# Display the LaTeX representation\n",
    "Latex(latex_mp())\n"
   ]
  },
  {
   "cell_type": "markdown",
   "id": "86cb2718-1705-4ee8-9008-d5390bd817bf",
   "metadata": {},
   "source": [
    "## Animation for McCulloch-Pitts Model"
   ]
  },
  {
   "cell_type": "code",
   "execution_count": 6,
   "id": "ec1168a2-5e3b-4b35-ad20-25ec5aaf6994",
   "metadata": {},
   "outputs": [
    {
     "data": {
      "text/html": [
       "<pre style=\"white-space:pre;overflow-x:auto;line-height:normal;font-family:Menlo,'DejaVu Sans Mono',consolas,'Courier New',monospace\">Manim Community <span style=\"color: #008000; text-decoration-color: #008000\">v0.18.1</span>\n",
       "\n",
       "</pre>\n"
      ],
      "text/plain": [
       "Manim Community \u001b[32mv0.\u001b[0m\u001b[32m18.1\u001b[0m\n",
       "\n"
      ]
     },
     "metadata": {},
     "output_type": "display_data"
    },
    {
     "data": {
      "text/html": [
       "<pre style=\"white-space:pre;overflow-x:auto;line-height:normal;font-family:Menlo,'DejaVu Sans Mono',consolas,'Courier New',monospace\"><span style=\"color: #7fbfbf; text-decoration-color: #7fbfbf\">[05/09/24 15:54:01] </span><span style=\"color: #008000; text-decoration-color: #008000\">INFO    </span> Animation <span style=\"color: #008000; text-decoration-color: #008000\">0</span> : Using cached data <span style=\"font-weight: bold\">(</span>hash :                           <span style=\"color: #7f7f7f; text-decoration-color: #7f7f7f\">cairo_renderer.py:88</span>\n",
       "<span style=\"color: #7fbfbf; text-decoration-color: #7fbfbf\">                    </span>         3977891868_2504794100_3913815599<span style=\"font-weight: bold\">)</span>                                 <span style=\"color: #7f7f7f; text-decoration-color: #7f7f7f\">                    </span>\n",
       "</pre>\n"
      ],
      "text/plain": [
       "\u001b[2;36m[05/09/24 15:54:01]\u001b[0m\u001b[2;36m \u001b[0m\u001b[32mINFO    \u001b[0m Animation \u001b[32m0\u001b[0m : Using cached data \u001b[1m(\u001b[0mhash :                           \u001b[2mcairo_renderer.py\u001b[0m\u001b[2m:\u001b[0m\u001b[2m88\u001b[0m\n",
       "\u001b[2;36m                    \u001b[0m         3977891868_2504794100_3913815599\u001b[1m)\u001b[0m                                 \u001b[2m                    \u001b[0m\n"
      ]
     },
     "metadata": {},
     "output_type": "display_data"
    },
    {
     "name": "stderr",
     "output_type": "stream",
     "text": [
      "                                                                                                                       \r"
     ]
    },
    {
     "data": {
      "text/html": [
       "<pre style=\"white-space:pre;overflow-x:auto;line-height:normal;font-family:Menlo,'DejaVu Sans Mono',consolas,'Courier New',monospace\"><span style=\"color: #7fbfbf; text-decoration-color: #7fbfbf\">                    </span><span style=\"color: #008000; text-decoration-color: #008000\">INFO    </span> Animation <span style=\"color: #008000; text-decoration-color: #008000\">1</span> : Using cached data <span style=\"font-weight: bold\">(</span>hash :                           <span style=\"color: #7f7f7f; text-decoration-color: #7f7f7f\">cairo_renderer.py:88</span>\n",
       "<span style=\"color: #7fbfbf; text-decoration-color: #7fbfbf\">                    </span>         2852726489_3931046234_1526200570<span style=\"font-weight: bold\">)</span>                                 <span style=\"color: #7f7f7f; text-decoration-color: #7f7f7f\">                    </span>\n",
       "</pre>\n"
      ],
      "text/plain": [
       "\u001b[2;36m                   \u001b[0m\u001b[2;36m \u001b[0m\u001b[32mINFO    \u001b[0m Animation \u001b[32m1\u001b[0m : Using cached data \u001b[1m(\u001b[0mhash :                           \u001b[2mcairo_renderer.py\u001b[0m\u001b[2m:\u001b[0m\u001b[2m88\u001b[0m\n",
       "\u001b[2;36m                    \u001b[0m         2852726489_3931046234_1526200570\u001b[1m)\u001b[0m                                 \u001b[2m                    \u001b[0m\n"
      ]
     },
     "metadata": {},
     "output_type": "display_data"
    },
    {
     "name": "stderr",
     "output_type": "stream",
     "text": [
      "                                                                                                                       \r"
     ]
    },
    {
     "data": {
      "text/html": [
       "<pre style=\"white-space:pre;overflow-x:auto;line-height:normal;font-family:Menlo,'DejaVu Sans Mono',consolas,'Courier New',monospace\"><span style=\"color: #7fbfbf; text-decoration-color: #7fbfbf\">[05/09/24 15:54:02] </span><span style=\"color: #008000; text-decoration-color: #008000\">INFO    </span> Animation <span style=\"color: #008000; text-decoration-color: #008000\">2</span> : Using cached data <span style=\"font-weight: bold\">(</span>hash :                           <span style=\"color: #7f7f7f; text-decoration-color: #7f7f7f\">cairo_renderer.py:88</span>\n",
       "<span style=\"color: #7fbfbf; text-decoration-color: #7fbfbf\">                    </span>         2852726489_2919340033_1150460810<span style=\"font-weight: bold\">)</span>                                 <span style=\"color: #7f7f7f; text-decoration-color: #7f7f7f\">                    </span>\n",
       "</pre>\n"
      ],
      "text/plain": [
       "\u001b[2;36m[05/09/24 15:54:02]\u001b[0m\u001b[2;36m \u001b[0m\u001b[32mINFO    \u001b[0m Animation \u001b[32m2\u001b[0m : Using cached data \u001b[1m(\u001b[0mhash :                           \u001b[2mcairo_renderer.py\u001b[0m\u001b[2m:\u001b[0m\u001b[2m88\u001b[0m\n",
       "\u001b[2;36m                    \u001b[0m         2852726489_2919340033_1150460810\u001b[1m)\u001b[0m                                 \u001b[2m                    \u001b[0m\n"
      ]
     },
     "metadata": {},
     "output_type": "display_data"
    },
    {
     "data": {
      "text/html": [
       "<pre style=\"white-space:pre;overflow-x:auto;line-height:normal;font-family:Menlo,'DejaVu Sans Mono',consolas,'Courier New',monospace\"><span style=\"color: #7fbfbf; text-decoration-color: #7fbfbf\">[05/09/24 15:54:03] </span><span style=\"color: #008000; text-decoration-color: #008000\">INFO    </span> Animation <span style=\"color: #008000; text-decoration-color: #008000\">3</span> : Using cached data <span style=\"font-weight: bold\">(</span>hash :                           <span style=\"color: #7f7f7f; text-decoration-color: #7f7f7f\">cairo_renderer.py:88</span>\n",
       "<span style=\"color: #7fbfbf; text-decoration-color: #7fbfbf\">                    </span>         2852726489_203882705_2791784359<span style=\"font-weight: bold\">)</span>                                  <span style=\"color: #7f7f7f; text-decoration-color: #7f7f7f\">                    </span>\n",
       "</pre>\n"
      ],
      "text/plain": [
       "\u001b[2;36m[05/09/24 15:54:03]\u001b[0m\u001b[2;36m \u001b[0m\u001b[32mINFO    \u001b[0m Animation \u001b[32m3\u001b[0m : Using cached data \u001b[1m(\u001b[0mhash :                           \u001b[2mcairo_renderer.py\u001b[0m\u001b[2m:\u001b[0m\u001b[2m88\u001b[0m\n",
       "\u001b[2;36m                    \u001b[0m         2852726489_203882705_2791784359\u001b[1m)\u001b[0m                                  \u001b[2m                    \u001b[0m\n"
      ]
     },
     "metadata": {},
     "output_type": "display_data"
    },
    {
     "name": "stderr",
     "output_type": "stream",
     "text": [
      "                                                                                                                       \r"
     ]
    },
    {
     "data": {
      "text/html": [
       "<pre style=\"white-space:pre;overflow-x:auto;line-height:normal;font-family:Menlo,'DejaVu Sans Mono',consolas,'Courier New',monospace\"><span style=\"color: #7fbfbf; text-decoration-color: #7fbfbf\">[05/09/24 15:54:04] </span><span style=\"color: #008000; text-decoration-color: #008000\">INFO    </span> Animation <span style=\"color: #008000; text-decoration-color: #008000\">4</span> : Partial movie file written in <span style=\"color: #008000; text-decoration-color: #008000\">'C:\\Users\\Ardra </span>  <span style=\"color: #7f7f7f; text-decoration-color: #7f7f7f\">scene_file_writer.py:527</span>\n",
       "<span style=\"color: #7fbfbf; text-decoration-color: #7fbfbf\">                    </span>         <span style=\"color: #008000; text-decoration-color: #008000\">Ajay\\Desktop\\internship\\media\\videos\\internship\\1080p60\\parti</span> <span style=\"color: #7f7f7f; text-decoration-color: #7f7f7f\">                        </span>\n",
       "<span style=\"color: #7fbfbf; text-decoration-color: #7fbfbf\">                    </span>         <span style=\"color: #008000; text-decoration-color: #008000\">al_movie_files\\McCullochPittsAndGate\\2852726489_2268332985_11</span> <span style=\"color: #7f7f7f; text-decoration-color: #7f7f7f\">                        </span>\n",
       "<span style=\"color: #7fbfbf; text-decoration-color: #7fbfbf\">                    </span>         <span style=\"color: #008000; text-decoration-color: #008000\">19138219.mp4'</span>                                                 <span style=\"color: #7f7f7f; text-decoration-color: #7f7f7f\">                        </span>\n",
       "</pre>\n"
      ],
      "text/plain": [
       "\u001b[2;36m[05/09/24 15:54:04]\u001b[0m\u001b[2;36m \u001b[0m\u001b[32mINFO    \u001b[0m Animation \u001b[32m4\u001b[0m : Partial movie file written in \u001b[32m'C:\\Users\\Ardra \u001b[0m  \u001b[2mscene_file_writer.py\u001b[0m\u001b[2m:\u001b[0m\u001b[2m527\u001b[0m\n",
       "\u001b[2;36m                    \u001b[0m         \u001b[32mAjay\\Desktop\\internship\\media\\videos\\internship\\1080p60\\parti\u001b[0m \u001b[2m                        \u001b[0m\n",
       "\u001b[2;36m                    \u001b[0m         \u001b[32mal_movie_files\\McCullochPittsAndGate\\2852726489_2268332985_11\u001b[0m \u001b[2m                        \u001b[0m\n",
       "\u001b[2;36m                    \u001b[0m         \u001b[32m19138219.mp4'\u001b[0m                                                 \u001b[2m                        \u001b[0m\n"
      ]
     },
     "metadata": {},
     "output_type": "display_data"
    },
    {
     "data": {
      "text/html": [
       "<pre style=\"white-space:pre;overflow-x:auto;line-height:normal;font-family:Menlo,'DejaVu Sans Mono',consolas,'Courier New',monospace\"><span style=\"color: #7fbfbf; text-decoration-color: #7fbfbf\">[05/09/24 15:54:05] </span><span style=\"color: #008000; text-decoration-color: #008000\">INFO    </span> Animation <span style=\"color: #008000; text-decoration-color: #008000\">5</span> : Using cached data <span style=\"font-weight: bold\">(</span>hash :                           <span style=\"color: #7f7f7f; text-decoration-color: #7f7f7f\">cairo_renderer.py:88</span>\n",
       "<span style=\"color: #7fbfbf; text-decoration-color: #7fbfbf\">                    </span>         2852726489_3049753286_1765651629<span style=\"font-weight: bold\">)</span>                                 <span style=\"color: #7f7f7f; text-decoration-color: #7f7f7f\">                    </span>\n",
       "</pre>\n"
      ],
      "text/plain": [
       "\u001b[2;36m[05/09/24 15:54:05]\u001b[0m\u001b[2;36m \u001b[0m\u001b[32mINFO    \u001b[0m Animation \u001b[32m5\u001b[0m : Using cached data \u001b[1m(\u001b[0mhash :                           \u001b[2mcairo_renderer.py\u001b[0m\u001b[2m:\u001b[0m\u001b[2m88\u001b[0m\n",
       "\u001b[2;36m                    \u001b[0m         2852726489_3049753286_1765651629\u001b[1m)\u001b[0m                                 \u001b[2m                    \u001b[0m\n"
      ]
     },
     "metadata": {},
     "output_type": "display_data"
    },
    {
     "name": "stderr",
     "output_type": "stream",
     "text": [
      "                                                                                                                       \r"
     ]
    },
    {
     "data": {
      "text/html": [
       "<pre style=\"white-space:pre;overflow-x:auto;line-height:normal;font-family:Menlo,'DejaVu Sans Mono',consolas,'Courier New',monospace\"><span style=\"color: #7fbfbf; text-decoration-color: #7fbfbf\">[05/09/24 15:54:07] </span><span style=\"color: #008000; text-decoration-color: #008000\">INFO    </span> Animation <span style=\"color: #008000; text-decoration-color: #008000\">6</span> : Partial movie file written in <span style=\"color: #008000; text-decoration-color: #008000\">'C:\\Users\\Ardra </span>  <span style=\"color: #7f7f7f; text-decoration-color: #7f7f7f\">scene_file_writer.py:527</span>\n",
       "<span style=\"color: #7fbfbf; text-decoration-color: #7fbfbf\">                    </span>         <span style=\"color: #008000; text-decoration-color: #008000\">Ajay\\Desktop\\internship\\media\\videos\\internship\\1080p60\\parti</span> <span style=\"color: #7f7f7f; text-decoration-color: #7f7f7f\">                        </span>\n",
       "<span style=\"color: #7fbfbf; text-decoration-color: #7fbfbf\">                    </span>         <span style=\"color: #008000; text-decoration-color: #008000\">al_movie_files\\McCullochPittsAndGate\\2852726489_3649372508_32</span> <span style=\"color: #7f7f7f; text-decoration-color: #7f7f7f\">                        </span>\n",
       "<span style=\"color: #7fbfbf; text-decoration-color: #7fbfbf\">                    </span>         <span style=\"color: #008000; text-decoration-color: #008000\">58449171.mp4'</span>                                                 <span style=\"color: #7f7f7f; text-decoration-color: #7f7f7f\">                        </span>\n",
       "</pre>\n"
      ],
      "text/plain": [
       "\u001b[2;36m[05/09/24 15:54:07]\u001b[0m\u001b[2;36m \u001b[0m\u001b[32mINFO    \u001b[0m Animation \u001b[32m6\u001b[0m : Partial movie file written in \u001b[32m'C:\\Users\\Ardra \u001b[0m  \u001b[2mscene_file_writer.py\u001b[0m\u001b[2m:\u001b[0m\u001b[2m527\u001b[0m\n",
       "\u001b[2;36m                    \u001b[0m         \u001b[32mAjay\\Desktop\\internship\\media\\videos\\internship\\1080p60\\parti\u001b[0m \u001b[2m                        \u001b[0m\n",
       "\u001b[2;36m                    \u001b[0m         \u001b[32mal_movie_files\\McCullochPittsAndGate\\2852726489_3649372508_32\u001b[0m \u001b[2m                        \u001b[0m\n",
       "\u001b[2;36m                    \u001b[0m         \u001b[32m58449171.mp4'\u001b[0m                                                 \u001b[2m                        \u001b[0m\n"
      ]
     },
     "metadata": {},
     "output_type": "display_data"
    },
    {
     "name": "stderr",
     "output_type": "stream",
     "text": [
      "                                                                                                                       \r"
     ]
    },
    {
     "data": {
      "text/html": [
       "<pre style=\"white-space:pre;overflow-x:auto;line-height:normal;font-family:Menlo,'DejaVu Sans Mono',consolas,'Courier New',monospace\"><span style=\"color: #7fbfbf; text-decoration-color: #7fbfbf\">[05/09/24 15:54:09] </span><span style=\"color: #008000; text-decoration-color: #008000\">INFO    </span> Animation <span style=\"color: #008000; text-decoration-color: #008000\">7</span> : Partial movie file written in <span style=\"color: #008000; text-decoration-color: #008000\">'C:\\Users\\Ardra </span>  <span style=\"color: #7f7f7f; text-decoration-color: #7f7f7f\">scene_file_writer.py:527</span>\n",
       "<span style=\"color: #7fbfbf; text-decoration-color: #7fbfbf\">                    </span>         <span style=\"color: #008000; text-decoration-color: #008000\">Ajay\\Desktop\\internship\\media\\videos\\internship\\1080p60\\parti</span> <span style=\"color: #7f7f7f; text-decoration-color: #7f7f7f\">                        </span>\n",
       "<span style=\"color: #7fbfbf; text-decoration-color: #7fbfbf\">                    </span>         <span style=\"color: #008000; text-decoration-color: #008000\">al_movie_files\\McCullochPittsAndGate\\2852726489_4092942897_24</span> <span style=\"color: #7f7f7f; text-decoration-color: #7f7f7f\">                        </span>\n",
       "<span style=\"color: #7fbfbf; text-decoration-color: #7fbfbf\">                    </span>         <span style=\"color: #008000; text-decoration-color: #008000\">40372830.mp4'</span>                                                 <span style=\"color: #7f7f7f; text-decoration-color: #7f7f7f\">                        </span>\n",
       "</pre>\n"
      ],
      "text/plain": [
       "\u001b[2;36m[05/09/24 15:54:09]\u001b[0m\u001b[2;36m \u001b[0m\u001b[32mINFO    \u001b[0m Animation \u001b[32m7\u001b[0m : Partial movie file written in \u001b[32m'C:\\Users\\Ardra \u001b[0m  \u001b[2mscene_file_writer.py\u001b[0m\u001b[2m:\u001b[0m\u001b[2m527\u001b[0m\n",
       "\u001b[2;36m                    \u001b[0m         \u001b[32mAjay\\Desktop\\internship\\media\\videos\\internship\\1080p60\\parti\u001b[0m \u001b[2m                        \u001b[0m\n",
       "\u001b[2;36m                    \u001b[0m         \u001b[32mal_movie_files\\McCullochPittsAndGate\\2852726489_4092942897_24\u001b[0m \u001b[2m                        \u001b[0m\n",
       "\u001b[2;36m                    \u001b[0m         \u001b[32m40372830.mp4'\u001b[0m                                                 \u001b[2m                        \u001b[0m\n"
      ]
     },
     "metadata": {},
     "output_type": "display_data"
    },
    {
     "data": {
      "text/html": [
       "<pre style=\"white-space:pre;overflow-x:auto;line-height:normal;font-family:Menlo,'DejaVu Sans Mono',consolas,'Courier New',monospace\"><span style=\"color: #7fbfbf; text-decoration-color: #7fbfbf\">[05/09/24 15:54:10] </span><span style=\"color: #008000; text-decoration-color: #008000\">INFO    </span> Animation <span style=\"color: #008000; text-decoration-color: #008000\">8</span> : Using cached data <span style=\"font-weight: bold\">(</span>hash :                           <span style=\"color: #7f7f7f; text-decoration-color: #7f7f7f\">cairo_renderer.py:88</span>\n",
       "<span style=\"color: #7fbfbf; text-decoration-color: #7fbfbf\">                    </span>         2852726489_2268332985_3500432612<span style=\"font-weight: bold\">)</span>                                 <span style=\"color: #7f7f7f; text-decoration-color: #7f7f7f\">                    </span>\n",
       "</pre>\n"
      ],
      "text/plain": [
       "\u001b[2;36m[05/09/24 15:54:10]\u001b[0m\u001b[2;36m \u001b[0m\u001b[32mINFO    \u001b[0m Animation \u001b[32m8\u001b[0m : Using cached data \u001b[1m(\u001b[0mhash :                           \u001b[2mcairo_renderer.py\u001b[0m\u001b[2m:\u001b[0m\u001b[2m88\u001b[0m\n",
       "\u001b[2;36m                    \u001b[0m         2852726489_2268332985_3500432612\u001b[1m)\u001b[0m                                 \u001b[2m                    \u001b[0m\n"
      ]
     },
     "metadata": {},
     "output_type": "display_data"
    },
    {
     "data": {
      "text/html": [
       "<pre style=\"white-space:pre;overflow-x:auto;line-height:normal;font-family:Menlo,'DejaVu Sans Mono',consolas,'Courier New',monospace\"><span style=\"color: #7fbfbf; text-decoration-color: #7fbfbf\">[05/09/24 15:54:11] </span><span style=\"color: #008000; text-decoration-color: #008000\">INFO    </span> Animation <span style=\"color: #008000; text-decoration-color: #008000\">9</span> : Using cached data <span style=\"font-weight: bold\">(</span>hash :                           <span style=\"color: #7f7f7f; text-decoration-color: #7f7f7f\">cairo_renderer.py:88</span>\n",
       "<span style=\"color: #7fbfbf; text-decoration-color: #7fbfbf\">                    </span>         2852726489_390885922_3703132168<span style=\"font-weight: bold\">)</span>                                  <span style=\"color: #7f7f7f; text-decoration-color: #7f7f7f\">                    </span>\n",
       "</pre>\n"
      ],
      "text/plain": [
       "\u001b[2;36m[05/09/24 15:54:11]\u001b[0m\u001b[2;36m \u001b[0m\u001b[32mINFO    \u001b[0m Animation \u001b[32m9\u001b[0m : Using cached data \u001b[1m(\u001b[0mhash :                           \u001b[2mcairo_renderer.py\u001b[0m\u001b[2m:\u001b[0m\u001b[2m88\u001b[0m\n",
       "\u001b[2;36m                    \u001b[0m         2852726489_390885922_3703132168\u001b[1m)\u001b[0m                                  \u001b[2m                    \u001b[0m\n"
      ]
     },
     "metadata": {},
     "output_type": "display_data"
    },
    {
     "name": "stderr",
     "output_type": "stream",
     "text": [
      "                                                                                                                       \r"
     ]
    },
    {
     "data": {
      "text/html": [
       "<pre style=\"white-space:pre;overflow-x:auto;line-height:normal;font-family:Menlo,'DejaVu Sans Mono',consolas,'Courier New',monospace\"><span style=\"color: #7fbfbf; text-decoration-color: #7fbfbf\">                    </span><span style=\"color: #008000; text-decoration-color: #008000\">INFO    </span> Combining to Movie file.                                      <span style=\"color: #7f7f7f; text-decoration-color: #7f7f7f\">scene_file_writer.py:617</span>\n",
       "</pre>\n"
      ],
      "text/plain": [
       "\u001b[2;36m                   \u001b[0m\u001b[2;36m \u001b[0m\u001b[32mINFO    \u001b[0m Combining to Movie file.                                      \u001b[2mscene_file_writer.py\u001b[0m\u001b[2m:\u001b[0m\u001b[2m617\u001b[0m\n"
      ]
     },
     "metadata": {},
     "output_type": "display_data"
    },
    {
     "data": {
      "text/html": [
       "<pre style=\"white-space:pre;overflow-x:auto;line-height:normal;font-family:Menlo,'DejaVu Sans Mono',consolas,'Courier New',monospace\"><span style=\"color: #7fbfbf; text-decoration-color: #7fbfbf\">                    </span><span style=\"color: #008000; text-decoration-color: #008000\">INFO    </span>                                                               <span style=\"color: #7f7f7f; text-decoration-color: #7f7f7f\">scene_file_writer.py:737</span>\n",
       "<span style=\"color: #7fbfbf; text-decoration-color: #7fbfbf\">                    </span>         <span style=\"color: #808000; text-decoration-color: #808000; font-weight: bold\">File</span> ready at <span style=\"color: #008000; text-decoration-color: #008000\">'C:\\Users\\Ardra </span>                                <span style=\"color: #7f7f7f; text-decoration-color: #7f7f7f\">                        </span>\n",
       "<span style=\"color: #7fbfbf; text-decoration-color: #7fbfbf\">                    </span>         <span style=\"color: #008000; text-decoration-color: #008000\">Ajay\\Desktop\\internship\\media\\videos\\internship\\1080p60\\McCul</span> <span style=\"color: #7f7f7f; text-decoration-color: #7f7f7f\">                        </span>\n",
       "<span style=\"color: #7fbfbf; text-decoration-color: #7fbfbf\">                    </span>         <span style=\"color: #008000; text-decoration-color: #008000\">lochPittsAndGate.mp4'</span>                                         <span style=\"color: #7f7f7f; text-decoration-color: #7f7f7f\">                        </span>\n",
       "<span style=\"color: #7fbfbf; text-decoration-color: #7fbfbf\">                    </span>                                                                       <span style=\"color: #7f7f7f; text-decoration-color: #7f7f7f\">                        </span>\n",
       "</pre>\n"
      ],
      "text/plain": [
       "\u001b[2;36m                   \u001b[0m\u001b[2;36m \u001b[0m\u001b[32mINFO    \u001b[0m                                                               \u001b[2mscene_file_writer.py\u001b[0m\u001b[2m:\u001b[0m\u001b[2m737\u001b[0m\n",
       "\u001b[2;36m                    \u001b[0m         \u001b[1;33mFile\u001b[0m ready at \u001b[32m'C:\\Users\\Ardra \u001b[0m                                \u001b[2m                        \u001b[0m\n",
       "\u001b[2;36m                    \u001b[0m         \u001b[32mAjay\\Desktop\\internship\\media\\videos\\internship\\1080p60\\McCul\u001b[0m \u001b[2m                        \u001b[0m\n",
       "\u001b[2;36m                    \u001b[0m         \u001b[32mlochPittsAndGate.mp4'\u001b[0m                                         \u001b[2m                        \u001b[0m\n",
       "\u001b[2;36m                    \u001b[0m                                                                       \u001b[2m                        \u001b[0m\n"
      ]
     },
     "metadata": {},
     "output_type": "display_data"
    },
    {
     "data": {
      "text/html": [
       "<pre style=\"white-space:pre;overflow-x:auto;line-height:normal;font-family:Menlo,'DejaVu Sans Mono',consolas,'Courier New',monospace\"><span style=\"color: #7fbfbf; text-decoration-color: #7fbfbf\">                    </span><span style=\"color: #008000; text-decoration-color: #008000\">INFO    </span> The partial movie directory is full <span style=\"font-weight: bold\">(</span>&gt; <span style=\"color: #008000; text-decoration-color: #008000\">100</span> files<span style=\"font-weight: bold\">)</span>. Therefore, <span style=\"color: #7f7f7f; text-decoration-color: #7f7f7f\">scene_file_writer.py:707</span>\n",
       "<span style=\"color: #7fbfbf; text-decoration-color: #7fbfbf\">                    </span>         manim has removed the <span style=\"color: #008000; text-decoration-color: #008000\">3</span> oldest <span style=\"color: #800080; text-decoration-color: #800080; font-weight: bold\">file</span><span style=\"font-weight: bold\">(</span>s<span style=\"font-weight: bold\">)</span>. You can change this   <span style=\"color: #7f7f7f; text-decoration-color: #7f7f7f\">                        </span>\n",
       "<span style=\"color: #7fbfbf; text-decoration-color: #7fbfbf\">                    </span>         behaviour by changing max_files_cached in config.             <span style=\"color: #7f7f7f; text-decoration-color: #7f7f7f\">                        </span>\n",
       "</pre>\n"
      ],
      "text/plain": [
       "\u001b[2;36m                   \u001b[0m\u001b[2;36m \u001b[0m\u001b[32mINFO    \u001b[0m The partial movie directory is full \u001b[1m(\u001b[0m> \u001b[32m100\u001b[0m files\u001b[1m)\u001b[0m. Therefore, \u001b[2mscene_file_writer.py\u001b[0m\u001b[2m:\u001b[0m\u001b[2m707\u001b[0m\n",
       "\u001b[2;36m                    \u001b[0m         manim has removed the \u001b[32m3\u001b[0m oldest \u001b[1;35mfile\u001b[0m\u001b[1m(\u001b[0ms\u001b[1m)\u001b[0m. You can change this   \u001b[2m                        \u001b[0m\n",
       "\u001b[2;36m                    \u001b[0m         behaviour by changing max_files_cached in config.             \u001b[2m                        \u001b[0m\n"
      ]
     },
     "metadata": {},
     "output_type": "display_data"
    },
    {
     "data": {
      "text/html": [
       "<pre style=\"white-space:pre;overflow-x:auto;line-height:normal;font-family:Menlo,'DejaVu Sans Mono',consolas,'Courier New',monospace\"><span style=\"color: #7fbfbf; text-decoration-color: #7fbfbf\">                    </span><span style=\"color: #008000; text-decoration-color: #008000\">INFO    </span> <span style=\"color: #808000; text-decoration-color: #808000; font-weight: bold\">Rendered</span> McCullochPittsAndGate                                            <span style=\"color: #7f7f7f; text-decoration-color: #7f7f7f\">scene.py:247</span>\n",
       "<span style=\"color: #7fbfbf; text-decoration-color: #7fbfbf\">                    </span>         <span style=\"color: #808000; text-decoration-color: #808000; font-weight: bold\">Played</span> <span style=\"color: #008000; text-decoration-color: #008000\">10</span> <span style=\"color: #808000; text-decoration-color: #808000; font-weight: bold\">animations</span>                                                      <span style=\"color: #7f7f7f; text-decoration-color: #7f7f7f\">            </span>\n",
       "</pre>\n"
      ],
      "text/plain": [
       "\u001b[2;36m                   \u001b[0m\u001b[2;36m \u001b[0m\u001b[32mINFO    \u001b[0m \u001b[1;33mRendered\u001b[0m McCullochPittsAndGate                                            \u001b[2mscene.py\u001b[0m\u001b[2m:\u001b[0m\u001b[2m247\u001b[0m\n",
       "\u001b[2;36m                    \u001b[0m         \u001b[1;33mPlayed\u001b[0m \u001b[32m10\u001b[0m \u001b[1;33manimations\u001b[0m                                                      \u001b[2m            \u001b[0m\n"
      ]
     },
     "metadata": {},
     "output_type": "display_data"
    },
    {
     "data": {
      "text/html": [
       "<video src=\"media\\jupyter\\McCullochPittsAndGate@2024-05-09@15-54-11.mp4\" controls autoplay loop style=\"max-width: 60%;\"  >\n",
       "      Your browser does not support the <code>video</code> element.\n",
       "    </video>"
      ],
      "text/plain": [
       "<IPython.core.display.Video object>"
      ]
     },
     "metadata": {},
     "output_type": "display_data"
    }
   ],
   "source": [
    "%%manim McCullochPittsAndGate\n",
    "from manim import *\n",
    "\n",
    "class McCullochPittsAndGate(Scene):\n",
    "    def construct(self):\n",
    "        # Create neuron circles and labels\n",
    "        title = Text(\"McCulloch-Pitts Model: Implementing AND Gate\", font_size=36, color=WHITE)\n",
    "        title.to_edge(UP, buff=0.5)\n",
    "        self.add(title)  # Add the title to the scene\n",
    "\n",
    "        neuron1 = Circle(radius=0.6, fill_color=BLUE, fill_opacity=0.7)\n",
    "        neuron2 = Circle(radius=0.6, fill_color=BLUE, fill_opacity=0.7)\n",
    "        output_neuron = Circle(radius=0.6, fill_color=RED, fill_opacity=0.7)\n",
    "\n",
    "        # Create lines\n",
    "        input_line1 = Line(LEFT * 2, neuron1, stroke_width=3)\n",
    "        input_line2 = Line(DOWN * 2, neuron2, stroke_width=3)\n",
    "        output_line = Line(neuron1, output_neuron, stroke_width=3)\n",
    "        output_line.rotate(PI / 2)  # Rotate for proper output line placement\n",
    "\n",
    "        # Animate scene elements\n",
    "        self.play(FadeIn(neuron1), FadeIn(neuron2), FadeIn(output_neuron))\n",
    "        self.play(Create(input_line1), Create(input_line2), Create(output_line))\n",
    "        self.wait(1)\n",
    "\n",
    "        # Add text \"T=2\" inside the neuron circle\n",
    "        t_value = Tex(\"T=2\", font_size=24, color=WHITE)\n",
    "        t_value.move_to(neuron1.get_center())  # Position the text at the center of neuron1\n",
    "\n",
    "        self.play(Write(t_value))\n",
    "        self.wait(1)\n",
    "\n",
    "        # Animate input values and output\n",
    "        input_values = [(1, 0, 0)]  # (input0, input1, output)\n",
    "        for input0, input1, output in input_values:\n",
    "            input0_text = Tex(f\"Input (x1) = {input0}\", font_size=24).next_to(input_line1, UP, buff=0.1).shift(LEFT * 0.5)\n",
    "            input1_text = Tex(f\"Input (x2) = {input1}\", font_size=24).next_to(neuron2, DOWN, buff=0.1)\n",
    "            output_text = Tex(f\"Output (y) = {output}\", font_size=24).next_to(output_neuron, RIGHT)\n",
    "\n",
    "            input1_text.align_to(input_line2, LEFT).shift(0.1 * DOWN)\n",
    "            output_text.align_to(output_line, LEFT).shift(0.1 * DOWN)\n",
    "\n",
    "            self.play(Write(input0_text), Write(input1_text))\n",
    "            self.wait(0.5)\n",
    "            self.play(Write(output_text))\n",
    "            self.wait(1)\n",
    "            self.play(FadeOut(input0_text), FadeOut(input1_text), FadeOut(output_text))\n"
   ]
  },
  {
   "cell_type": "markdown",
   "id": "0d4fd642-f103-4281-b9cd-c1abe136b88f",
   "metadata": {},
   "source": [
    "## Rosenblatt Perceptron  Model"
   ]
  },
  {
   "cell_type": "markdown",
   "id": "687890b3-2c78-4730-a6ec-72cc474da1b8",
   "metadata": {},
   "source": [
    "<h4>  The Rosenblatt Perceptron  model is another type of artificial neuron that learns to classify inputs into two categories. </h4>\n",
    "<h4> It takes multiple input features, multiplies them by corresponding weights, and sums them up. </h4>\n",
    "<h4> If the sum exceeds a certain threshold, the perceptron outputs 1; otherwise, it outputs 0. </h4>"
   ]
  },
  {
   "cell_type": "markdown",
   "id": "ce234135-b801-47ee-99c4-4fd76b39f12c",
   "metadata": {},
   "source": [
    "##  Mathematical Representation of Rosenblatt Perceptron  Model\n",
    "<h4> Below is the mathematical representation of the Perceptron model using LaTeX representation.</h4>"
   ]
  },
  {
   "cell_type": "code",
   "execution_count": 4,
   "id": "6239ea7f-9481-4876-bb26-f4990de6367b",
   "metadata": {},
   "outputs": [
    {
     "data": {
      "text/latex": [
       "\n",
       "  The Perceptron model can be represented mathematically as follows:\n",
       "\n",
       "  Let $x_1$ and $x_2$ be the input features.\n",
       "  The output ($y$) of the perceptron is determined by the condition:\n",
       "\n",
       "  $$ y = \\begin{cases}\n",
       "      \\color{green}{\\textbf{1}} & \\text{if } \\theta_1 x_1 + \\theta_2 x_2 \\geq \\text{t} \\\\\n",
       "      0 & \\text{otherwise}\n",
       "  \\end{cases} $$\n",
       "\n",
       "  Where $\\theta_1$ and $\\theta_2$ are the weights associated with $x_1$ and $x_2$ respectively, the threshold is denoted by $\\text{t}$ and value of threshold varies (for example the threshold value of AND gate is 2).\n",
       "\n",
       "\n",
       "  Therefore, the condition can be rewritten as:\n",
       "\n",
       "  $$ y = \\begin{cases}\n",
       "      \\color{green}{\\textbf{1}} & \\text{if } \\theta_1 x_1 + \\theta_2 x_2 - t \\geq 0 \\\\\n",
       "      0 & \\text{otherwise}\n",
       "  \\end{cases} $$\n",
       "\n",
       "  Combining the bias term, the condition becomes:\n",
       "\n",
       "  $$ y = \\begin{cases}\n",
       "      \\color{green}{\\textbf{1}} & \\text{if } \\theta_1 x_1 + \\theta_2 x_2 + \\theta_0 \\geq 0 \\\\\n",
       "      0 & \\text{otherwise}\n",
       "  \\end{cases} $$\n",
       "\n",
       "  Here, $\\theta_0$ represents the bias term ($-t$).\n",
       "\n",
       "  "
      ],
      "text/plain": [
       "<IPython.core.display.Latex object>"
      ]
     },
     "execution_count": 4,
     "metadata": {},
     "output_type": "execute_result"
    }
   ],
   "source": [
    "from IPython.display import Latex\n",
    "\n",
    "def latex_perceptron():\n",
    "  \"\"\"LaTeX representation of Perceptron model with explanations\"\"\"\n",
    "  latex_repr = r\"\"\"\n",
    "  The Perceptron model can be represented mathematically as follows:\n",
    "\n",
    "  Let $x_1$ and $x_2$ be the input features.\n",
    "  The output ($y$) of the perceptron is determined by the condition:\n",
    "\n",
    "  $$ y = \\begin{cases}\n",
    "      \\color{green}{\\textbf{1}} & \\text{if } \\theta_1 x_1 + \\theta_2 x_2 \\geq \\text{t} \\\\\n",
    "      0 & \\text{otherwise}\n",
    "  \\end{cases} $$\n",
    "\n",
    "  Where $\\theta_1$ and $\\theta_2$ are the weights associated with $x_1$ and $x_2$ respectively, the threshold is denoted by $\\text{t}$ and value of threshold varies (for example the threshold value of AND gate is 2).\n",
    "\n",
    "\n",
    "  Therefore, the condition can be rewritten as:\n",
    "\n",
    "  $$ y = \\begin{cases}\n",
    "      \\color{green}{\\textbf{1}} & \\text{if } \\theta_1 x_1 + \\theta_2 x_2 - t \\geq 0 \\\\\n",
    "      0 & \\text{otherwise}\n",
    "  \\end{cases} $$\n",
    "\n",
    "  Combining the bias term, the condition becomes:\n",
    "\n",
    "  $$ y = \\begin{cases}\n",
    "      \\color{green}{\\textbf{1}} & \\text{if } \\theta_1 x_1 + \\theta_2 x_2 + \\theta_0 \\geq 0 \\\\\n",
    "      0 & \\text{otherwise}\n",
    "  \\end{cases} $$\n",
    "\n",
    "  Here, $\\theta_0$ represents the bias term ($-t$).\n",
    "\n",
    "  \"\"\"\n",
    "  return latex_repr\n",
    "\n",
    "# Display the LaTeX representation\n",
    "Latex(latex_perceptron())"
   ]
  },
  {
   "cell_type": "markdown",
   "id": "a93c33e7-c122-4d91-916e-ad27b1a6d091",
   "metadata": {},
   "source": [
    "## Animation for Rosenblatt Perceptron  Model"
   ]
  },
  {
   "cell_type": "code",
   "execution_count": 5,
   "id": "79e1a0e4-be2b-4507-9991-acb0a57bd616",
   "metadata": {},
   "outputs": [
    {
     "data": {
      "text/html": [
       "<pre style=\"white-space:pre;overflow-x:auto;line-height:normal;font-family:Menlo,'DejaVu Sans Mono',consolas,'Courier New',monospace\">Manim Community <span style=\"color: #008000; text-decoration-color: #008000\">v0.18.1</span>\n",
       "\n",
       "</pre>\n"
      ],
      "text/plain": [
       "Manim Community \u001b[32mv0.\u001b[0m\u001b[32m18.1\u001b[0m\n",
       "\n"
      ]
     },
     "metadata": {},
     "output_type": "display_data"
    },
    {
     "data": {
      "text/html": [
       "<pre style=\"white-space:pre;overflow-x:auto;line-height:normal;font-family:Menlo,'DejaVu Sans Mono',consolas,'Courier New',monospace\"><span style=\"color: #7fbfbf; text-decoration-color: #7fbfbf\">[05/09/24 15:53:53] </span><span style=\"color: #008000; text-decoration-color: #008000\">INFO    </span> Animation <span style=\"color: #008000; text-decoration-color: #008000\">0</span> : Using cached data <span style=\"font-weight: bold\">(</span>hash :                           <span style=\"color: #7f7f7f; text-decoration-color: #7f7f7f\">cairo_renderer.py:88</span>\n",
       "<span style=\"color: #7fbfbf; text-decoration-color: #7fbfbf\">                    </span>         3977891868_1103014927_28416600<span style=\"font-weight: bold\">)</span>                                   <span style=\"color: #7f7f7f; text-decoration-color: #7f7f7f\">                    </span>\n",
       "</pre>\n"
      ],
      "text/plain": [
       "\u001b[2;36m[05/09/24 15:53:53]\u001b[0m\u001b[2;36m \u001b[0m\u001b[32mINFO    \u001b[0m Animation \u001b[32m0\u001b[0m : Using cached data \u001b[1m(\u001b[0mhash :                           \u001b[2mcairo_renderer.py\u001b[0m\u001b[2m:\u001b[0m\u001b[2m88\u001b[0m\n",
       "\u001b[2;36m                    \u001b[0m         3977891868_1103014927_28416600\u001b[1m)\u001b[0m                                   \u001b[2m                    \u001b[0m\n"
      ]
     },
     "metadata": {},
     "output_type": "display_data"
    },
    {
     "name": "stderr",
     "output_type": "stream",
     "text": [
      "                                                                                                                       \r"
     ]
    },
    {
     "data": {
      "text/html": [
       "<pre style=\"white-space:pre;overflow-x:auto;line-height:normal;font-family:Menlo,'DejaVu Sans Mono',consolas,'Courier New',monospace\"><span style=\"color: #7fbfbf; text-decoration-color: #7fbfbf\">                    </span><span style=\"color: #008000; text-decoration-color: #008000\">INFO    </span> Animation <span style=\"color: #008000; text-decoration-color: #008000\">1</span> : Using cached data <span style=\"font-weight: bold\">(</span>hash :                           <span style=\"color: #7f7f7f; text-decoration-color: #7f7f7f\">cairo_renderer.py:88</span>\n",
       "<span style=\"color: #7fbfbf; text-decoration-color: #7fbfbf\">                    </span>         2852726489_3237712132_1661653378<span style=\"font-weight: bold\">)</span>                                 <span style=\"color: #7f7f7f; text-decoration-color: #7f7f7f\">                    </span>\n",
       "</pre>\n"
      ],
      "text/plain": [
       "\u001b[2;36m                   \u001b[0m\u001b[2;36m \u001b[0m\u001b[32mINFO    \u001b[0m Animation \u001b[32m1\u001b[0m : Using cached data \u001b[1m(\u001b[0mhash :                           \u001b[2mcairo_renderer.py\u001b[0m\u001b[2m:\u001b[0m\u001b[2m88\u001b[0m\n",
       "\u001b[2;36m                    \u001b[0m         2852726489_3237712132_1661653378\u001b[1m)\u001b[0m                                 \u001b[2m                    \u001b[0m\n"
      ]
     },
     "metadata": {},
     "output_type": "display_data"
    },
    {
     "name": "stderr",
     "output_type": "stream",
     "text": [
      "                                                                                                                       \r"
     ]
    },
    {
     "data": {
      "text/html": [
       "<pre style=\"white-space:pre;overflow-x:auto;line-height:normal;font-family:Menlo,'DejaVu Sans Mono',consolas,'Courier New',monospace\"><span style=\"color: #7fbfbf; text-decoration-color: #7fbfbf\">                    </span><span style=\"color: #008000; text-decoration-color: #008000\">INFO    </span> Animation <span style=\"color: #008000; text-decoration-color: #008000\">2</span> : Using cached data <span style=\"font-weight: bold\">(</span>hash :                           <span style=\"color: #7f7f7f; text-decoration-color: #7f7f7f\">cairo_renderer.py:88</span>\n",
       "<span style=\"color: #7fbfbf; text-decoration-color: #7fbfbf\">                    </span>         2852726489_3635361042_581232936<span style=\"font-weight: bold\">)</span>                                  <span style=\"color: #7f7f7f; text-decoration-color: #7f7f7f\">                    </span>\n",
       "</pre>\n"
      ],
      "text/plain": [
       "\u001b[2;36m                   \u001b[0m\u001b[2;36m \u001b[0m\u001b[32mINFO    \u001b[0m Animation \u001b[32m2\u001b[0m : Using cached data \u001b[1m(\u001b[0mhash :                           \u001b[2mcairo_renderer.py\u001b[0m\u001b[2m:\u001b[0m\u001b[2m88\u001b[0m\n",
       "\u001b[2;36m                    \u001b[0m         2852726489_3635361042_581232936\u001b[1m)\u001b[0m                                  \u001b[2m                    \u001b[0m\n"
      ]
     },
     "metadata": {},
     "output_type": "display_data"
    },
    {
     "name": "stderr",
     "output_type": "stream",
     "text": [
      "                                                                                                                       \r"
     ]
    },
    {
     "data": {
      "text/html": [
       "<pre style=\"white-space:pre;overflow-x:auto;line-height:normal;font-family:Menlo,'DejaVu Sans Mono',consolas,'Courier New',monospace\"><span style=\"color: #7fbfbf; text-decoration-color: #7fbfbf\">[05/09/24 15:53:55] </span><span style=\"color: #008000; text-decoration-color: #008000\">INFO    </span> Animation <span style=\"color: #008000; text-decoration-color: #008000\">3</span> : Partial movie file written in <span style=\"color: #008000; text-decoration-color: #008000\">'C:\\Users\\Ardra </span>  <span style=\"color: #7f7f7f; text-decoration-color: #7f7f7f\">scene_file_writer.py:527</span>\n",
       "<span style=\"color: #7fbfbf; text-decoration-color: #7fbfbf\">                    </span>         <span style=\"color: #008000; text-decoration-color: #008000\">Ajay\\Desktop\\internship\\media\\videos\\internship\\1080p60\\parti</span> <span style=\"color: #7f7f7f; text-decoration-color: #7f7f7f\">                        </span>\n",
       "<span style=\"color: #7fbfbf; text-decoration-color: #7fbfbf\">                    </span>         <span style=\"color: #008000; text-decoration-color: #008000\">al_movie_files\\RosenblattPerceptron\\2852726489_2919340033_257</span> <span style=\"color: #7f7f7f; text-decoration-color: #7f7f7f\">                        </span>\n",
       "<span style=\"color: #7fbfbf; text-decoration-color: #7fbfbf\">                    </span>         <span style=\"color: #008000; text-decoration-color: #008000\">2660477.mp4'</span>                                                  <span style=\"color: #7f7f7f; text-decoration-color: #7f7f7f\">                        </span>\n",
       "</pre>\n"
      ],
      "text/plain": [
       "\u001b[2;36m[05/09/24 15:53:55]\u001b[0m\u001b[2;36m \u001b[0m\u001b[32mINFO    \u001b[0m Animation \u001b[32m3\u001b[0m : Partial movie file written in \u001b[32m'C:\\Users\\Ardra \u001b[0m  \u001b[2mscene_file_writer.py\u001b[0m\u001b[2m:\u001b[0m\u001b[2m527\u001b[0m\n",
       "\u001b[2;36m                    \u001b[0m         \u001b[32mAjay\\Desktop\\internship\\media\\videos\\internship\\1080p60\\parti\u001b[0m \u001b[2m                        \u001b[0m\n",
       "\u001b[2;36m                    \u001b[0m         \u001b[32mal_movie_files\\RosenblattPerceptron\\2852726489_2919340033_257\u001b[0m \u001b[2m                        \u001b[0m\n",
       "\u001b[2;36m                    \u001b[0m         \u001b[32m2660477.mp4'\u001b[0m                                                  \u001b[2m                        \u001b[0m\n"
      ]
     },
     "metadata": {},
     "output_type": "display_data"
    },
    {
     "data": {
      "text/html": [
       "<pre style=\"white-space:pre;overflow-x:auto;line-height:normal;font-family:Menlo,'DejaVu Sans Mono',consolas,'Courier New',monospace\"><span style=\"color: #7fbfbf; text-decoration-color: #7fbfbf\">[05/09/24 15:53:56] </span><span style=\"color: #008000; text-decoration-color: #008000\">INFO    </span> Animation <span style=\"color: #008000; text-decoration-color: #008000\">4</span> : Using cached data <span style=\"font-weight: bold\">(</span>hash :                           <span style=\"color: #7f7f7f; text-decoration-color: #7f7f7f\">cairo_renderer.py:88</span>\n",
       "<span style=\"color: #7fbfbf; text-decoration-color: #7fbfbf\">                    </span>         2852726489_3692796496_524625734<span style=\"font-weight: bold\">)</span>                                  <span style=\"color: #7f7f7f; text-decoration-color: #7f7f7f\">                    </span>\n",
       "</pre>\n"
      ],
      "text/plain": [
       "\u001b[2;36m[05/09/24 15:53:56]\u001b[0m\u001b[2;36m \u001b[0m\u001b[32mINFO    \u001b[0m Animation \u001b[32m4\u001b[0m : Using cached data \u001b[1m(\u001b[0mhash :                           \u001b[2mcairo_renderer.py\u001b[0m\u001b[2m:\u001b[0m\u001b[2m88\u001b[0m\n",
       "\u001b[2;36m                    \u001b[0m         2852726489_3692796496_524625734\u001b[1m)\u001b[0m                                  \u001b[2m                    \u001b[0m\n"
      ]
     },
     "metadata": {},
     "output_type": "display_data"
    },
    {
     "name": "stderr",
     "output_type": "stream",
     "text": [
      "                                                                                                                       \r"
     ]
    },
    {
     "data": {
      "text/html": [
       "<pre style=\"white-space:pre;overflow-x:auto;line-height:normal;font-family:Menlo,'DejaVu Sans Mono',consolas,'Courier New',monospace\"><span style=\"color: #7fbfbf; text-decoration-color: #7fbfbf\">[05/09/24 15:53:57] </span><span style=\"color: #008000; text-decoration-color: #008000\">INFO    </span> Animation <span style=\"color: #008000; text-decoration-color: #008000\">5</span> : Partial movie file written in <span style=\"color: #008000; text-decoration-color: #008000\">'C:\\Users\\Ardra </span>  <span style=\"color: #7f7f7f; text-decoration-color: #7f7f7f\">scene_file_writer.py:527</span>\n",
       "<span style=\"color: #7fbfbf; text-decoration-color: #7fbfbf\">                    </span>         <span style=\"color: #008000; text-decoration-color: #008000\">Ajay\\Desktop\\internship\\media\\videos\\internship\\1080p60\\parti</span> <span style=\"color: #7f7f7f; text-decoration-color: #7f7f7f\">                        </span>\n",
       "<span style=\"color: #7fbfbf; text-decoration-color: #7fbfbf\">                    </span>         <span style=\"color: #008000; text-decoration-color: #008000\">al_movie_files\\RosenblattPerceptron\\2852726489_2569161387_367</span> <span style=\"color: #7f7f7f; text-decoration-color: #7f7f7f\">                        </span>\n",
       "<span style=\"color: #7fbfbf; text-decoration-color: #7fbfbf\">                    </span>         <span style=\"color: #008000; text-decoration-color: #008000\">394071.mp4'</span>                                                   <span style=\"color: #7f7f7f; text-decoration-color: #7f7f7f\">                        </span>\n",
       "</pre>\n"
      ],
      "text/plain": [
       "\u001b[2;36m[05/09/24 15:53:57]\u001b[0m\u001b[2;36m \u001b[0m\u001b[32mINFO    \u001b[0m Animation \u001b[32m5\u001b[0m : Partial movie file written in \u001b[32m'C:\\Users\\Ardra \u001b[0m  \u001b[2mscene_file_writer.py\u001b[0m\u001b[2m:\u001b[0m\u001b[2m527\u001b[0m\n",
       "\u001b[2;36m                    \u001b[0m         \u001b[32mAjay\\Desktop\\internship\\media\\videos\\internship\\1080p60\\parti\u001b[0m \u001b[2m                        \u001b[0m\n",
       "\u001b[2;36m                    \u001b[0m         \u001b[32mal_movie_files\\RosenblattPerceptron\\2852726489_2569161387_367\u001b[0m \u001b[2m                        \u001b[0m\n",
       "\u001b[2;36m                    \u001b[0m         \u001b[32m394071.mp4'\u001b[0m                                                   \u001b[2m                        \u001b[0m\n"
      ]
     },
     "metadata": {},
     "output_type": "display_data"
    },
    {
     "data": {
      "text/html": [
       "<pre style=\"white-space:pre;overflow-x:auto;line-height:normal;font-family:Menlo,'DejaVu Sans Mono',consolas,'Courier New',monospace\"><span style=\"color: #7fbfbf; text-decoration-color: #7fbfbf\">                    </span><span style=\"color: #008000; text-decoration-color: #008000\">INFO    </span> Animation <span style=\"color: #008000; text-decoration-color: #008000\">6</span> : Using cached data <span style=\"font-weight: bold\">(</span>hash :                           <span style=\"color: #7f7f7f; text-decoration-color: #7f7f7f\">cairo_renderer.py:88</span>\n",
       "<span style=\"color: #7fbfbf; text-decoration-color: #7fbfbf\">                    </span>         2852726489_2904402406_292577467<span style=\"font-weight: bold\">)</span>                                  <span style=\"color: #7f7f7f; text-decoration-color: #7f7f7f\">                    </span>\n",
       "</pre>\n"
      ],
      "text/plain": [
       "\u001b[2;36m                   \u001b[0m\u001b[2;36m \u001b[0m\u001b[32mINFO    \u001b[0m Animation \u001b[32m6\u001b[0m : Using cached data \u001b[1m(\u001b[0mhash :                           \u001b[2mcairo_renderer.py\u001b[0m\u001b[2m:\u001b[0m\u001b[2m88\u001b[0m\n",
       "\u001b[2;36m                    \u001b[0m         2852726489_2904402406_292577467\u001b[1m)\u001b[0m                                  \u001b[2m                    \u001b[0m\n"
      ]
     },
     "metadata": {},
     "output_type": "display_data"
    },
    {
     "name": "stderr",
     "output_type": "stream",
     "text": [
      "                                                                                                                       \r"
     ]
    },
    {
     "data": {
      "text/html": [
       "<pre style=\"white-space:pre;overflow-x:auto;line-height:normal;font-family:Menlo,'DejaVu Sans Mono',consolas,'Courier New',monospace\"><span style=\"color: #7fbfbf; text-decoration-color: #7fbfbf\">[05/09/24 15:53:58] </span><span style=\"color: #008000; text-decoration-color: #008000\">INFO    </span> Animation <span style=\"color: #008000; text-decoration-color: #008000\">7</span> : Partial movie file written in <span style=\"color: #008000; text-decoration-color: #008000\">'C:\\Users\\Ardra </span>  <span style=\"color: #7f7f7f; text-decoration-color: #7f7f7f\">scene_file_writer.py:527</span>\n",
       "<span style=\"color: #7fbfbf; text-decoration-color: #7fbfbf\">                    </span>         <span style=\"color: #008000; text-decoration-color: #008000\">Ajay\\Desktop\\internship\\media\\videos\\internship\\1080p60\\parti</span> <span style=\"color: #7f7f7f; text-decoration-color: #7f7f7f\">                        </span>\n",
       "<span style=\"color: #7fbfbf; text-decoration-color: #7fbfbf\">                    </span>         <span style=\"color: #008000; text-decoration-color: #008000\">al_movie_files\\RosenblattPerceptron\\2852726489_2268332985_231</span> <span style=\"color: #7f7f7f; text-decoration-color: #7f7f7f\">                        </span>\n",
       "<span style=\"color: #7fbfbf; text-decoration-color: #7fbfbf\">                    </span>         <span style=\"color: #008000; text-decoration-color: #008000\">5170562.mp4'</span>                                                  <span style=\"color: #7f7f7f; text-decoration-color: #7f7f7f\">                        </span>\n",
       "</pre>\n"
      ],
      "text/plain": [
       "\u001b[2;36m[05/09/24 15:53:58]\u001b[0m\u001b[2;36m \u001b[0m\u001b[32mINFO    \u001b[0m Animation \u001b[32m7\u001b[0m : Partial movie file written in \u001b[32m'C:\\Users\\Ardra \u001b[0m  \u001b[2mscene_file_writer.py\u001b[0m\u001b[2m:\u001b[0m\u001b[2m527\u001b[0m\n",
       "\u001b[2;36m                    \u001b[0m         \u001b[32mAjay\\Desktop\\internship\\media\\videos\\internship\\1080p60\\parti\u001b[0m \u001b[2m                        \u001b[0m\n",
       "\u001b[2;36m                    \u001b[0m         \u001b[32mal_movie_files\\RosenblattPerceptron\\2852726489_2268332985_231\u001b[0m \u001b[2m                        \u001b[0m\n",
       "\u001b[2;36m                    \u001b[0m         \u001b[32m5170562.mp4'\u001b[0m                                                  \u001b[2m                        \u001b[0m\n"
      ]
     },
     "metadata": {},
     "output_type": "display_data"
    },
    {
     "data": {
      "text/html": [
       "<pre style=\"white-space:pre;overflow-x:auto;line-height:normal;font-family:Menlo,'DejaVu Sans Mono',consolas,'Courier New',monospace\"><span style=\"color: #7fbfbf; text-decoration-color: #7fbfbf\">[05/09/24 15:53:59] </span><span style=\"color: #008000; text-decoration-color: #008000\">INFO    </span> Animation <span style=\"color: #008000; text-decoration-color: #008000\">8</span> : Using cached data <span style=\"font-weight: bold\">(</span>hash :                           <span style=\"color: #7f7f7f; text-decoration-color: #7f7f7f\">cairo_renderer.py:88</span>\n",
       "<span style=\"color: #7fbfbf; text-decoration-color: #7fbfbf\">                    </span>         2852726489_1837825673_1498082901<span style=\"font-weight: bold\">)</span>                                 <span style=\"color: #7f7f7f; text-decoration-color: #7f7f7f\">                    </span>\n",
       "</pre>\n"
      ],
      "text/plain": [
       "\u001b[2;36m[05/09/24 15:53:59]\u001b[0m\u001b[2;36m \u001b[0m\u001b[32mINFO    \u001b[0m Animation \u001b[32m8\u001b[0m : Using cached data \u001b[1m(\u001b[0mhash :                           \u001b[2mcairo_renderer.py\u001b[0m\u001b[2m:\u001b[0m\u001b[2m88\u001b[0m\n",
       "\u001b[2;36m                    \u001b[0m         2852726489_1837825673_1498082901\u001b[1m)\u001b[0m                                 \u001b[2m                    \u001b[0m\n"
      ]
     },
     "metadata": {},
     "output_type": "display_data"
    },
    {
     "name": "stderr",
     "output_type": "stream",
     "text": [
      "                                                                                                                       \r"
     ]
    },
    {
     "data": {
      "text/html": [
       "<pre style=\"white-space:pre;overflow-x:auto;line-height:normal;font-family:Menlo,'DejaVu Sans Mono',consolas,'Courier New',monospace\"><span style=\"color: #7fbfbf; text-decoration-color: #7fbfbf\">[05/09/24 15:54:00] </span><span style=\"color: #008000; text-decoration-color: #008000\">INFO    </span> Combining to Movie file.                                      <span style=\"color: #7f7f7f; text-decoration-color: #7f7f7f\">scene_file_writer.py:617</span>\n",
       "</pre>\n"
      ],
      "text/plain": [
       "\u001b[2;36m[05/09/24 15:54:00]\u001b[0m\u001b[2;36m \u001b[0m\u001b[32mINFO    \u001b[0m Combining to Movie file.                                      \u001b[2mscene_file_writer.py\u001b[0m\u001b[2m:\u001b[0m\u001b[2m617\u001b[0m\n"
      ]
     },
     "metadata": {},
     "output_type": "display_data"
    },
    {
     "data": {
      "text/html": [
       "<pre style=\"white-space:pre;overflow-x:auto;line-height:normal;font-family:Menlo,'DejaVu Sans Mono',consolas,'Courier New',monospace\"><span style=\"color: #7fbfbf; text-decoration-color: #7fbfbf\">                    </span><span style=\"color: #008000; text-decoration-color: #008000\">INFO    </span>                                                               <span style=\"color: #7f7f7f; text-decoration-color: #7f7f7f\">scene_file_writer.py:737</span>\n",
       "<span style=\"color: #7fbfbf; text-decoration-color: #7fbfbf\">                    </span>         <span style=\"color: #808000; text-decoration-color: #808000; font-weight: bold\">File</span> ready at <span style=\"color: #008000; text-decoration-color: #008000\">'C:\\Users\\Ardra </span>                                <span style=\"color: #7f7f7f; text-decoration-color: #7f7f7f\">                        </span>\n",
       "<span style=\"color: #7fbfbf; text-decoration-color: #7fbfbf\">                    </span>         <span style=\"color: #008000; text-decoration-color: #008000\">Ajay\\Desktop\\internship\\media\\videos\\internship\\1080p60\\Rosen</span> <span style=\"color: #7f7f7f; text-decoration-color: #7f7f7f\">                        </span>\n",
       "<span style=\"color: #7fbfbf; text-decoration-color: #7fbfbf\">                    </span>         <span style=\"color: #008000; text-decoration-color: #008000\">blattPerceptron.mp4'</span>                                          <span style=\"color: #7f7f7f; text-decoration-color: #7f7f7f\">                        </span>\n",
       "<span style=\"color: #7fbfbf; text-decoration-color: #7fbfbf\">                    </span>                                                                       <span style=\"color: #7f7f7f; text-decoration-color: #7f7f7f\">                        </span>\n",
       "</pre>\n"
      ],
      "text/plain": [
       "\u001b[2;36m                   \u001b[0m\u001b[2;36m \u001b[0m\u001b[32mINFO    \u001b[0m                                                               \u001b[2mscene_file_writer.py\u001b[0m\u001b[2m:\u001b[0m\u001b[2m737\u001b[0m\n",
       "\u001b[2;36m                    \u001b[0m         \u001b[1;33mFile\u001b[0m ready at \u001b[32m'C:\\Users\\Ardra \u001b[0m                                \u001b[2m                        \u001b[0m\n",
       "\u001b[2;36m                    \u001b[0m         \u001b[32mAjay\\Desktop\\internship\\media\\videos\\internship\\1080p60\\Rosen\u001b[0m \u001b[2m                        \u001b[0m\n",
       "\u001b[2;36m                    \u001b[0m         \u001b[32mblattPerceptron.mp4'\u001b[0m                                          \u001b[2m                        \u001b[0m\n",
       "\u001b[2;36m                    \u001b[0m                                                                       \u001b[2m                        \u001b[0m\n"
      ]
     },
     "metadata": {},
     "output_type": "display_data"
    },
    {
     "data": {
      "text/html": [
       "<pre style=\"white-space:pre;overflow-x:auto;line-height:normal;font-family:Menlo,'DejaVu Sans Mono',consolas,'Courier New',monospace\"><span style=\"color: #7fbfbf; text-decoration-color: #7fbfbf\">                    </span><span style=\"color: #008000; text-decoration-color: #008000\">INFO    </span> <span style=\"color: #808000; text-decoration-color: #808000; font-weight: bold\">Rendered</span> RosenblattPerceptron                                             <span style=\"color: #7f7f7f; text-decoration-color: #7f7f7f\">scene.py:247</span>\n",
       "<span style=\"color: #7fbfbf; text-decoration-color: #7fbfbf\">                    </span>         <span style=\"color: #808000; text-decoration-color: #808000; font-weight: bold\">Played</span> <span style=\"color: #008000; text-decoration-color: #008000\">9</span> <span style=\"color: #808000; text-decoration-color: #808000; font-weight: bold\">animations</span>                                                       <span style=\"color: #7f7f7f; text-decoration-color: #7f7f7f\">            </span>\n",
       "</pre>\n"
      ],
      "text/plain": [
       "\u001b[2;36m                   \u001b[0m\u001b[2;36m \u001b[0m\u001b[32mINFO    \u001b[0m \u001b[1;33mRendered\u001b[0m RosenblattPerceptron                                             \u001b[2mscene.py\u001b[0m\u001b[2m:\u001b[0m\u001b[2m247\u001b[0m\n",
       "\u001b[2;36m                    \u001b[0m         \u001b[1;33mPlayed\u001b[0m \u001b[32m9\u001b[0m \u001b[1;33manimations\u001b[0m                                                       \u001b[2m            \u001b[0m\n"
      ]
     },
     "metadata": {},
     "output_type": "display_data"
    },
    {
     "data": {
      "text/html": [
       "<video src=\"media\\jupyter\\RosenblattPerceptron@2024-05-09@15-54-00.mp4\" controls autoplay loop style=\"max-width: 60%;\"  >\n",
       "      Your browser does not support the <code>video</code> element.\n",
       "    </video>"
      ],
      "text/plain": [
       "<IPython.core.display.Video object>"
      ]
     },
     "metadata": {},
     "output_type": "display_data"
    }
   ],
   "source": [
    "%%manim RosenblattPerceptron\n",
    "\n",
    "from manim import *\n",
    "\n",
    "class RosenblattPerceptron(Scene):\n",
    "    def construct(self):\n",
    "        # Create neuron circles and labels\n",
    "        title = Text(\"Rosenblatt Perceptron Model: Implementing AND Gate\", font_size=36, color=WHITE)\n",
    "        title.to_edge(UP, buff=0.5)\n",
    "        self.add(title)  # Add the title to the scene\n",
    "\n",
    "        neuron1 = Circle(radius=0.6, fill_color=BLUE, fill_opacity=0.7)\n",
    "        neuron2 = Circle(radius=0.6, fill_color=BLUE, fill_opacity=0.7)\n",
    "        output_neuron = Circle(radius=0.6, fill_color=RED, fill_opacity=0.7)\n",
    "\n",
    "        # Create lines\n",
    "        input_line1 = Line(LEFT * 2, neuron1, stroke_width=3)\n",
    "        input_line2 = Line(DOWN * 2, neuron2, stroke_width=3)\n",
    "        output_line = Line(neuron1, output_neuron, stroke_width=3)\n",
    "        output_line.rotate(PI / 2)  # Rotate for proper output line placement\n",
    "\n",
    "        # Create weight values and labels\n",
    "        weight1 = Tex(\"$\\\\theta_1 = 1$\", font_size=24).next_to(input_line1, UP, buff=0.1)\n",
    "        weight2 = Tex(\"$\\\\theta_2 = 1$\", font_size=24).next_to(input_line2, DOWN, buff=0.1)\n",
    "        threshold_label = Tex(\"$T = 2$\", font_size=24).move_to(output_neuron)\n",
    "\n",
    "        # Animate scene elements\n",
    "        self.play(FadeIn(neuron1), FadeIn(neuron2), FadeIn(output_neuron))\n",
    "        self.play(Create(input_line1), Create(input_line2), Create(output_line))\n",
    "        self.play(Write(weight1), Write(weight2), Write(threshold_label))\n",
    "        self.wait(1)\n",
    "\n",
    "        # Animate input values and output\n",
    "        input_values = [(1, 0, 0)]  # (input0, input1, output)\n",
    "        for input0, input1, output in input_values:\n",
    "            input0_text = Tex(f\"Input (x1) = {input0}\", font_size=24).next_to( weight1, UP , buff=0.4).shift(LEFT * 0.5)\n",
    "            input1_text = Tex(f\"Input (x2) = {input1}\", font_size=24).next_to(weight2, DOWN, buff=0.1).shift(LEFT * 0.9)\n",
    "            output_text = Tex(f\"Output (y) = {output}\", font_size=24).next_to(output_neuron, RIGHT, buff = 0.9)\n",
    "\n",
    "            input0_text.align_to(input_line1, LEFT).shift(0.1 * DOWN)\n",
    "            input1_text.align_to(input_line2, LEFT).shift(0.1 * DOWN)\n",
    "            output_text.align_to(output_line, LEFT).shift(0.1 * DOWN)\n",
    "\n",
    "            self.play(Write(input0_text), Write(input1_text))\n",
    "            self.wait(0.5)\n",
    "            self.play(Write(output_text))\n",
    "            self.wait(1)\n",
    "            self.play(FadeOut(input0_text), FadeOut(input1_text), FadeOut(output_text))"
   ]
  },
  {
   "cell_type": "markdown",
   "id": "9bb3e5d6-320a-463f-990f-4c3888903179",
   "metadata": {},
   "source": [
    "## Conclusion"
   ]
  },
  {
   "cell_type": "markdown",
   "id": "d8098c67-ca7c-468a-b22f-50734a2dfc5e",
   "metadata": {},
   "source": [
    "\n",
    "<h4> In this notebook, we've explored the McCulloch-Pitts model and the Rosenblatt Perceptron  model, two fundamental building blocks of artificial neural networks. We've provided explanations of these models, along with visualizations using animations and mathematical representations. By understanding these models, we gain insight into how artificial neurons process information and make decisions in machine learning tasks.</h4>\n",
    "\n",
    "<h3>Limitations of Linear Separability:</h3> <h4>It's important to note that both the McCulloch-Pitts model and the Rosenblatt Perceptron model have limitations. They can only effectively classify data that is linearly separable. This means that the data points belonging to different classes can be perfectly separated by a straight line (in 2D) or a hyperplane (in higher dimensions). Unfortunately, not all datasets are linearly separable. A classic example is the XOR (Exclusive OR) function, where a straight line cannot accurately classify all data points.</h4>\n",
    "\n",
    "\n",
    "<h4>This concludes our exploration of the McCulloch-Pitts model and the Rosenblatt Perceptron  model. By understanding these fundamental models and their limitations, we can appreciate the power and potential of more complex neural networks in artificial intelligence.</h4>"
   ]
  },
  {
   "cell_type": "code",
   "execution_count": null,
   "id": "e52d3562-34bb-4aa0-8d7f-a9d7836ddac5",
   "metadata": {},
   "outputs": [],
   "source": []
  }
 ],
 "metadata": {
  "kernelspec": {
   "display_name": "Python 3 (ipykernel)",
   "language": "python",
   "name": "python3"
  },
  "language_info": {
   "codemirror_mode": {
    "name": "ipython",
    "version": 3
   },
   "file_extension": ".py",
   "mimetype": "text/x-python",
   "name": "python",
   "nbconvert_exporter": "python",
   "pygments_lexer": "ipython3",
   "version": "3.10.7"
  }
 },
 "nbformat": 4,
 "nbformat_minor": 5
}
