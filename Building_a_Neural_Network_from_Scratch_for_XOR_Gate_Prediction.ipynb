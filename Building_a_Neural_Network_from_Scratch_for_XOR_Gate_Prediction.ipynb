{
  "nbformat": 4,
  "nbformat_minor": 0,
  "metadata": {
    "colab": {
      "provenance": []
    },
    "kernelspec": {
      "name": "python3",
      "display_name": "Python 3"
    },
    "language_info": {
      "name": "python"
    }
  },
  "cells": [
    {
      "cell_type": "code",
      "execution_count": 1,
      "metadata": {
        "id": "VrVl63Mcf6TC"
      },
      "outputs": [],
      "source": [
        "# Import necessary libraries\n",
        "import pandas as pd  # For data manipulation\n",
        "import numpy as np  # For numerical operations\n"
      ]
    },
    {
      "cell_type": "markdown",
      "source": [
        "We're importing the libraries we need for our project. `pandas` helps us work with data tables, while `numpy` is great for numerical operations."
      ],
      "metadata": {
        "id": "FJzkGtIOrnRX"
      }
    },
    {
      "cell_type": "code",
      "source": [
        "# Create a DataFrame with sample data\n",
        "data = pd.DataFrame(data={\"input1\": [0, 0, 1, 1], \"input2\": [0, 1, 0, 1], \"target\": [0, 1, 1, 0]})\n",
        "data"
      ],
      "metadata": {
        "colab": {
          "base_uri": "https://localhost:8080/",
          "height": 174
        },
        "id": "mGrV8CDvhrOS",
        "outputId": "806f74c2-cf42-4b62-80b9-551f6dc76e37"
      },
      "execution_count": 2,
      "outputs": [
        {
          "output_type": "execute_result",
          "data": {
            "text/plain": [
              "   input1  input2  target\n",
              "0       0       0       0\n",
              "1       0       1       1\n",
              "2       1       0       1\n",
              "3       1       1       0"
            ],
            "text/html": [
              "\n",
              "  <div id=\"df-be803d8c-67b9-41f6-8813-3883784d23a5\" class=\"colab-df-container\">\n",
              "    <div>\n",
              "<style scoped>\n",
              "    .dataframe tbody tr th:only-of-type {\n",
              "        vertical-align: middle;\n",
              "    }\n",
              "\n",
              "    .dataframe tbody tr th {\n",
              "        vertical-align: top;\n",
              "    }\n",
              "\n",
              "    .dataframe thead th {\n",
              "        text-align: right;\n",
              "    }\n",
              "</style>\n",
              "<table border=\"1\" class=\"dataframe\">\n",
              "  <thead>\n",
              "    <tr style=\"text-align: right;\">\n",
              "      <th></th>\n",
              "      <th>input1</th>\n",
              "      <th>input2</th>\n",
              "      <th>target</th>\n",
              "    </tr>\n",
              "  </thead>\n",
              "  <tbody>\n",
              "    <tr>\n",
              "      <th>0</th>\n",
              "      <td>0</td>\n",
              "      <td>0</td>\n",
              "      <td>0</td>\n",
              "    </tr>\n",
              "    <tr>\n",
              "      <th>1</th>\n",
              "      <td>0</td>\n",
              "      <td>1</td>\n",
              "      <td>1</td>\n",
              "    </tr>\n",
              "    <tr>\n",
              "      <th>2</th>\n",
              "      <td>1</td>\n",
              "      <td>0</td>\n",
              "      <td>1</td>\n",
              "    </tr>\n",
              "    <tr>\n",
              "      <th>3</th>\n",
              "      <td>1</td>\n",
              "      <td>1</td>\n",
              "      <td>0</td>\n",
              "    </tr>\n",
              "  </tbody>\n",
              "</table>\n",
              "</div>\n",
              "    <div class=\"colab-df-buttons\">\n",
              "\n",
              "  <div class=\"colab-df-container\">\n",
              "    <button class=\"colab-df-convert\" onclick=\"convertToInteractive('df-be803d8c-67b9-41f6-8813-3883784d23a5')\"\n",
              "            title=\"Convert this dataframe to an interactive table.\"\n",
              "            style=\"display:none;\">\n",
              "\n",
              "  <svg xmlns=\"http://www.w3.org/2000/svg\" height=\"24px\" viewBox=\"0 -960 960 960\">\n",
              "    <path d=\"M120-120v-720h720v720H120Zm60-500h600v-160H180v160Zm220 220h160v-160H400v160Zm0 220h160v-160H400v160ZM180-400h160v-160H180v160Zm440 0h160v-160H620v160ZM180-180h160v-160H180v160Zm440 0h160v-160H620v160Z\"/>\n",
              "  </svg>\n",
              "    </button>\n",
              "\n",
              "  <style>\n",
              "    .colab-df-container {\n",
              "      display:flex;\n",
              "      gap: 12px;\n",
              "    }\n",
              "\n",
              "    .colab-df-convert {\n",
              "      background-color: #E8F0FE;\n",
              "      border: none;\n",
              "      border-radius: 50%;\n",
              "      cursor: pointer;\n",
              "      display: none;\n",
              "      fill: #1967D2;\n",
              "      height: 32px;\n",
              "      padding: 0 0 0 0;\n",
              "      width: 32px;\n",
              "    }\n",
              "\n",
              "    .colab-df-convert:hover {\n",
              "      background-color: #E2EBFA;\n",
              "      box-shadow: 0px 1px 2px rgba(60, 64, 67, 0.3), 0px 1px 3px 1px rgba(60, 64, 67, 0.15);\n",
              "      fill: #174EA6;\n",
              "    }\n",
              "\n",
              "    .colab-df-buttons div {\n",
              "      margin-bottom: 4px;\n",
              "    }\n",
              "\n",
              "    [theme=dark] .colab-df-convert {\n",
              "      background-color: #3B4455;\n",
              "      fill: #D2E3FC;\n",
              "    }\n",
              "\n",
              "    [theme=dark] .colab-df-convert:hover {\n",
              "      background-color: #434B5C;\n",
              "      box-shadow: 0px 1px 3px 1px rgba(0, 0, 0, 0.15);\n",
              "      filter: drop-shadow(0px 1px 2px rgba(0, 0, 0, 0.3));\n",
              "      fill: #FFFFFF;\n",
              "    }\n",
              "  </style>\n",
              "\n",
              "    <script>\n",
              "      const buttonEl =\n",
              "        document.querySelector('#df-be803d8c-67b9-41f6-8813-3883784d23a5 button.colab-df-convert');\n",
              "      buttonEl.style.display =\n",
              "        google.colab.kernel.accessAllowed ? 'block' : 'none';\n",
              "\n",
              "      async function convertToInteractive(key) {\n",
              "        const element = document.querySelector('#df-be803d8c-67b9-41f6-8813-3883784d23a5');\n",
              "        const dataTable =\n",
              "          await google.colab.kernel.invokeFunction('convertToInteractive',\n",
              "                                                    [key], {});\n",
              "        if (!dataTable) return;\n",
              "\n",
              "        const docLinkHtml = 'Like what you see? Visit the ' +\n",
              "          '<a target=\"_blank\" href=https://colab.research.google.com/notebooks/data_table.ipynb>data table notebook</a>'\n",
              "          + ' to learn more about interactive tables.';\n",
              "        element.innerHTML = '';\n",
              "        dataTable['output_type'] = 'display_data';\n",
              "        await google.colab.output.renderOutput(dataTable, element);\n",
              "        const docLink = document.createElement('div');\n",
              "        docLink.innerHTML = docLinkHtml;\n",
              "        element.appendChild(docLink);\n",
              "      }\n",
              "    </script>\n",
              "  </div>\n",
              "\n",
              "\n",
              "<div id=\"df-a0391484-562b-4003-8c96-18b1052f6dae\">\n",
              "  <button class=\"colab-df-quickchart\" onclick=\"quickchart('df-a0391484-562b-4003-8c96-18b1052f6dae')\"\n",
              "            title=\"Suggest charts\"\n",
              "            style=\"display:none;\">\n",
              "\n",
              "<svg xmlns=\"http://www.w3.org/2000/svg\" height=\"24px\"viewBox=\"0 0 24 24\"\n",
              "     width=\"24px\">\n",
              "    <g>\n",
              "        <path d=\"M19 3H5c-1.1 0-2 .9-2 2v14c0 1.1.9 2 2 2h14c1.1 0 2-.9 2-2V5c0-1.1-.9-2-2-2zM9 17H7v-7h2v7zm4 0h-2V7h2v10zm4 0h-2v-4h2v4z\"/>\n",
              "    </g>\n",
              "</svg>\n",
              "  </button>\n",
              "\n",
              "<style>\n",
              "  .colab-df-quickchart {\n",
              "      --bg-color: #E8F0FE;\n",
              "      --fill-color: #1967D2;\n",
              "      --hover-bg-color: #E2EBFA;\n",
              "      --hover-fill-color: #174EA6;\n",
              "      --disabled-fill-color: #AAA;\n",
              "      --disabled-bg-color: #DDD;\n",
              "  }\n",
              "\n",
              "  [theme=dark] .colab-df-quickchart {\n",
              "      --bg-color: #3B4455;\n",
              "      --fill-color: #D2E3FC;\n",
              "      --hover-bg-color: #434B5C;\n",
              "      --hover-fill-color: #FFFFFF;\n",
              "      --disabled-bg-color: #3B4455;\n",
              "      --disabled-fill-color: #666;\n",
              "  }\n",
              "\n",
              "  .colab-df-quickchart {\n",
              "    background-color: var(--bg-color);\n",
              "    border: none;\n",
              "    border-radius: 50%;\n",
              "    cursor: pointer;\n",
              "    display: none;\n",
              "    fill: var(--fill-color);\n",
              "    height: 32px;\n",
              "    padding: 0;\n",
              "    width: 32px;\n",
              "  }\n",
              "\n",
              "  .colab-df-quickchart:hover {\n",
              "    background-color: var(--hover-bg-color);\n",
              "    box-shadow: 0 1px 2px rgba(60, 64, 67, 0.3), 0 1px 3px 1px rgba(60, 64, 67, 0.15);\n",
              "    fill: var(--button-hover-fill-color);\n",
              "  }\n",
              "\n",
              "  .colab-df-quickchart-complete:disabled,\n",
              "  .colab-df-quickchart-complete:disabled:hover {\n",
              "    background-color: var(--disabled-bg-color);\n",
              "    fill: var(--disabled-fill-color);\n",
              "    box-shadow: none;\n",
              "  }\n",
              "\n",
              "  .colab-df-spinner {\n",
              "    border: 2px solid var(--fill-color);\n",
              "    border-color: transparent;\n",
              "    border-bottom-color: var(--fill-color);\n",
              "    animation:\n",
              "      spin 1s steps(1) infinite;\n",
              "  }\n",
              "\n",
              "  @keyframes spin {\n",
              "    0% {\n",
              "      border-color: transparent;\n",
              "      border-bottom-color: var(--fill-color);\n",
              "      border-left-color: var(--fill-color);\n",
              "    }\n",
              "    20% {\n",
              "      border-color: transparent;\n",
              "      border-left-color: var(--fill-color);\n",
              "      border-top-color: var(--fill-color);\n",
              "    }\n",
              "    30% {\n",
              "      border-color: transparent;\n",
              "      border-left-color: var(--fill-color);\n",
              "      border-top-color: var(--fill-color);\n",
              "      border-right-color: var(--fill-color);\n",
              "    }\n",
              "    40% {\n",
              "      border-color: transparent;\n",
              "      border-right-color: var(--fill-color);\n",
              "      border-top-color: var(--fill-color);\n",
              "    }\n",
              "    60% {\n",
              "      border-color: transparent;\n",
              "      border-right-color: var(--fill-color);\n",
              "    }\n",
              "    80% {\n",
              "      border-color: transparent;\n",
              "      border-right-color: var(--fill-color);\n",
              "      border-bottom-color: var(--fill-color);\n",
              "    }\n",
              "    90% {\n",
              "      border-color: transparent;\n",
              "      border-bottom-color: var(--fill-color);\n",
              "    }\n",
              "  }\n",
              "</style>\n",
              "\n",
              "  <script>\n",
              "    async function quickchart(key) {\n",
              "      const quickchartButtonEl =\n",
              "        document.querySelector('#' + key + ' button');\n",
              "      quickchartButtonEl.disabled = true;  // To prevent multiple clicks.\n",
              "      quickchartButtonEl.classList.add('colab-df-spinner');\n",
              "      try {\n",
              "        const charts = await google.colab.kernel.invokeFunction(\n",
              "            'suggestCharts', [key], {});\n",
              "      } catch (error) {\n",
              "        console.error('Error during call to suggestCharts:', error);\n",
              "      }\n",
              "      quickchartButtonEl.classList.remove('colab-df-spinner');\n",
              "      quickchartButtonEl.classList.add('colab-df-quickchart-complete');\n",
              "    }\n",
              "    (() => {\n",
              "      let quickchartButtonEl =\n",
              "        document.querySelector('#df-a0391484-562b-4003-8c96-18b1052f6dae button');\n",
              "      quickchartButtonEl.style.display =\n",
              "        google.colab.kernel.accessAllowed ? 'block' : 'none';\n",
              "    })();\n",
              "  </script>\n",
              "</div>\n",
              "    </div>\n",
              "  </div>\n"
            ],
            "application/vnd.google.colaboratory.intrinsic+json": {
              "type": "dataframe",
              "variable_name": "data",
              "summary": "{\n  \"name\": \"data\",\n  \"rows\": 4,\n  \"fields\": [\n    {\n      \"column\": \"input1\",\n      \"properties\": {\n        \"dtype\": \"number\",\n        \"std\": 0,\n        \"min\": 0,\n        \"max\": 1,\n        \"num_unique_values\": 2,\n        \"samples\": [\n          1,\n          0\n        ],\n        \"semantic_type\": \"\",\n        \"description\": \"\"\n      }\n    },\n    {\n      \"column\": \"input2\",\n      \"properties\": {\n        \"dtype\": \"number\",\n        \"std\": 0,\n        \"min\": 0,\n        \"max\": 1,\n        \"num_unique_values\": 2,\n        \"samples\": [\n          1,\n          0\n        ],\n        \"semantic_type\": \"\",\n        \"description\": \"\"\n      }\n    },\n    {\n      \"column\": \"target\",\n      \"properties\": {\n        \"dtype\": \"number\",\n        \"std\": 0,\n        \"min\": 0,\n        \"max\": 1,\n        \"num_unique_values\": 2,\n        \"samples\": [\n          1,\n          0\n        ],\n        \"semantic_type\": \"\",\n        \"description\": \"\"\n      }\n    }\n  ]\n}"
            }
          },
          "metadata": {},
          "execution_count": 2
        }
      ]
    },
    {
      "cell_type": "markdown",
      "source": [
        "We're making a simple dataset to train our neural network. This dataset consists of four examples, each with two input features (`input1 and input2`) and one output (`target`). These examples represent the **XOR** gate function.\n"
      ],
      "metadata": {
        "id": "lXGaph4Lr1lu"
      }
    },
    {
      "cell_type": "code",
      "source": [
        "# Separate features and target variable into numpy arrays\n",
        "X = np.array(data.iloc[:, 0:2])  # Feature matrix\n",
        "y = np.array(data.iloc[:, 2])  # Target vector"
      ],
      "metadata": {
        "id": "fHOXa6q0hyAq"
      },
      "execution_count": 3,
      "outputs": []
    },
    {
      "cell_type": "markdown",
      "source": [
        " **Converting Dataset into Arrays:**\n",
        "Now, we're converting our dataset into arrays to prepare them for training our neural network. `X` contains the input features, and `y` contains the corresponding outputs.\n"
      ],
      "metadata": {
        "id": "-0eT_JM8sQiR"
      }
    },
    {
      "cell_type": "code",
      "source": [
        "# Function to initialize biases for a layer\n",
        "def initialize_biases(num_neurons):\n",
        "    return np.random.uniform(low=-1, high=1, size=(1, num_neurons))\n"
      ],
      "metadata": {
        "id": "aKfheNsrh76p"
      },
      "execution_count": 4,
      "outputs": []
    },
    {
      "cell_type": "markdown",
      "source": [
        "**Initializing Layer Biases:**\n",
        "Here, we're defining a function `initialize_biases` to randomly initialize biases for each neuron in a layer. Biases are like additional parameters that help the neural network learn.\n"
      ],
      "metadata": {
        "id": "6nbwgXAlsk2B"
      }
    },
    {
      "cell_type": "code",
      "source": [
        "# Function to initialize weights for a layer\n",
        "def initialize_weights(num_inputs, num_neurons):\n",
        "    return np.random.uniform(low=-1, high=1, size=(num_inputs, num_neurons))\n"
      ],
      "metadata": {
        "id": "RTGQzJh2iFNk"
      },
      "execution_count": 5,
      "outputs": []
    },
    {
      "cell_type": "markdown",
      "source": [
        "**Initializing Layer Weights:**\n",
        "We're defining another function `initialize_weights` to randomly initialize weights for connections between neurons in two layers. Weights determine the strength of connections between neurons.\n"
      ],
      "metadata": {
        "id": "OsP02_i-s-x6"
      }
    },
    {
      "cell_type": "code",
      "source": [
        "# Define neural network structure and activation functions\n",
        "NUM_INPUTS = X.shape[1]  # Number of input features\n",
        "NUM_LAYERS = 3  # Number of layers in the network (input + hidden + output)\n",
        "neurons_per_layer = [NUM_INPUTS]  # List to store the number of neurons per layer\n",
        "\n",
        "# Dictionary of activation functions\n",
        "activation_functions_dict = {0: \"linear\", 1: \"sigmoid\", 2: \"tanh\", 3: \"relu\", 4: \"leaky_relu\"}\n",
        "activation_functions = [None]  # List to store activation functions per layer\n",
        "\n",
        "# Initialize lists for weights and biases\n",
        "biases = [None]\n",
        "weights = [None]\n",
        "\n",
        "# Initialize forward pass variables\n",
        "layer_weighted_sums = [None] * NUM_LAYERS\n",
        "layer_outputs = [None] * NUM_LAYERS\n",
        "\n",
        "# Initialize backpropagation variables\n",
        "activation_derivatives = [None] * NUM_LAYERS\n",
        "bias_gradients = [None] * NUM_LAYERS\n",
        "weight_gradients = [None] * NUM_LAYERS\n",
        "loss_gradients = [None] * NUM_LAYERS\n"
      ],
      "metadata": {
        "id": "rEKvJHtyiI7p"
      },
      "execution_count": 6,
      "outputs": []
    },
    {
      "cell_type": "markdown",
      "source": [
        "**Defining Neural Network Architecture:**\n",
        "We're setting up the architecture of our neural network. `NUM_INPUTS` represents the number of input features, `NUM_LAYERS` is the total number of layers in the network, and `neurons_per_layer` keeps track of the number of neurons in each layer.\n",
        "\n",
        "The input layer has 2 neurons, representing the features of the input data.\n",
        "\n",
        "The hidden layer (if present) has 2 neurons in the first cell, 3 neurons\n",
        "in the seventh cell, and 3 neurons in the thirteenth cell.\n",
        "\n",
        "The output layer has 1 neuron, which outputs the prediction of the neural network\n"
      ],
      "metadata": {
        "id": "kx_xt2TEtK4w"
      }
    },
    {
      "cell_type": "code",
      "source": [
        "# Configure hidden and output layers\n",
        "for layer in range(1, NUM_LAYERS-1):\n",
        "    num_neurons = int(input(f\"How many neurons for Hidden Layer #{layer}? \"))\n",
        "    neurons_per_layer.append(num_neurons)\n",
        "\n",
        "    activation_func_index = int(input(f\"Choose activation function for Hidden Layer #{layer} (0: Linear, 1: Sigmoid, 2: Tanh, 3: ReLU, 4: Leaky ReLU): \"))\n",
        "    activation_functions.append(activation_functions_dict[activation_func_index])\n",
        "\n",
        "    biases.append(initialize_biases(num_neurons))\n",
        "    weights.append(initialize_weights(neurons_per_layer[layer-1], num_neurons))\n",
        "\n",
        "# Configure output layer based on the task\n",
        "task_type = int(input(\"Choose task type (0: Regression, 1: Classification): \"))\n",
        "\n",
        "if task_type == 0:\n",
        "    output_dimension = 1 if int(input(\"Regression output type (0: Scalar, 1: Vector): \")) == 0 else int(input(\"Number of output dimensions: \"))\n",
        "    activation_functions.append(\"linear\")\n",
        "else:\n",
        "    if int(input(\"Realize a boolean function (0: No, 1: Yes): \")) == 1:\n",
        "        output_dimension = 1\n",
        "        activation_functions.append(\"sigmoid\")\n",
        "    else:\n",
        "        output_dimension = int(input(\"Number of output classes (>2): \"))\n",
        "        activation_functions.append(\"softmax\")\n",
        "\n",
        "neurons_per_layer.append(output_dimension)\n",
        "biases.append(initialize_biases(output_dimension))\n",
        "weights.append(initialize_weights(neurons_per_layer[-2], output_dimension))\n"
      ],
      "metadata": {
        "colab": {
          "base_uri": "https://localhost:8080/"
        },
        "id": "j89cUtVYiLn3",
        "outputId": "00b561bc-d665-42d4-cad8-f5f684ed8500"
      },
      "execution_count": 7,
      "outputs": [
        {
          "name": "stdout",
          "output_type": "stream",
          "text": [
            "How many neurons for Hidden Layer #1? 3\n",
            "Choose activation function for Hidden Layer #1 (0: Linear, 1: Sigmoid, 2: Tanh, 3: ReLU, 4: Leaky ReLU): 1\n",
            "Choose task type (0: Regression, 1: Classification): 1\n",
            "Realize a boolean function (0: No, 1: Yes): 1\n"
          ]
        }
      ]
    },
    {
      "cell_type": "markdown",
      "source": [
        "**Customizing Neural Network:**\n",
        "We ask the user for preferences to customize the neural network. It prompts the user to specify the number of neurons and the activation function for each hidden layer, as well as the task type (regression or classification).\n",
        "\n",
        "- **How many neurons for Hidden Layer #1?**: We choose to have 3 neurons in the first hidden layer.\n",
        "\n",
        "- **Choose activation function for Hidden Layer #1**: Here, we select the Sigmoid activation function (option 1) for the first hidden layer. Sigmoid is often suitable for binary classification tasks due to its output range between 0 and 1.\n",
        "\n",
        "- **Choose task type**: We specify that the task type is classification (option 1). This indicates that the neural network will be trained for a classification task.\n",
        "\n",
        "- **Realize a boolean function**: We opt to realize a boolean function (option 1), which aligns with our problem statement of binary classification for the XOR gate prediction.\n",
        "\n",
        "\n",
        "**Choice of Activation Function**\n",
        "\n",
        "In the context of realizing a boolean function like the **XOR gate** , using the **Sigmoid activation function is a common choice** due to its ability to produce outputs in the range of 0 to 1, suitable for binary classification tasks.The Sigmoid function **maps any input value to a value between 0 and 1**. which is perfect for problems where the output needs to be binary (0 or 1), as in the case of the XOR gate.\n",
        "\n",
        "It's worth noting that while Sigmoid is often preferred for boolean functions due to its interpretability and clear decision boundary, the choice of activation function can also depend on factors like network architecture, dataset complexity, and experimentation to find the best-performing model.\n"
      ],
      "metadata": {
        "id": "riYvosVUt5Hg"
      }
    },
    {
      "cell_type": "code",
      "source": [
        "# Function to compute weighted sum for layer neurons\n",
        "def compute_weighted_sum(prev_layer_output, layer_biases, layer_weights):\n",
        "    return layer_biases + np.dot(prev_layer_output, layer_weights)\n"
      ],
      "metadata": {
        "id": "fSbtJccgiOm6"
      },
      "execution_count": 8,
      "outputs": []
    },
    {
      "cell_type": "markdown",
      "source": [
        "**Calculating Weighted Sums:** We're defining a function `compute_weighted_sum` to calculate the weighted sum of inputs to neurons in a layer. This sum is then used as input to activation functions.\n"
      ],
      "metadata": {
        "id": "-JsEFaKX4KN1"
      }
    },
    {
      "cell_type": "code",
      "source": [
        "# Function to compute neuron outputs using activation functions\n",
        "def compute_layer_output(weighted_sums, activation_function):\n",
        "    if activation_function == \"linear\":\n",
        "        return weighted_sums\n",
        "    elif activation_function == \"sigmoid\":\n",
        "        return 1 / (1 + np.exp(-weighted_sums))\n",
        "    elif activation_function == \"tanh\":\n",
        "        return np.tanh(weighted_sums)\n",
        "    elif activation_function == \"relu\":\n",
        "        return np.maximum(0, weighted_sums)\n",
        "    elif activation_function == \"leaky_relu\":\n",
        "        return np.where(weighted_sums > 0, weighted_sums, 0.01 * weighted_sums)\n"
      ],
      "metadata": {
        "id": "0vVvnJs-ie-M"
      },
      "execution_count": 9,
      "outputs": []
    },
    {
      "cell_type": "markdown",
      "source": [
        "**Calculating Neuron Outputs:** Here, we're defining a function `compute_layer_output` to compute the output of neurons in a layer after applying an activation function. The activation function determines whether the neuron fires or not."
      ],
      "metadata": {
        "id": "fKWYq5vT4h1n"
      }
    },
    {
      "cell_type": "code",
      "source": [
        "# Function to compute derivative of activation function\n",
        "def compute_activation_derivative(activation_function, weighted_sums):\n",
        "    if activation_function == \"linear\":\n",
        "        return np.ones_like(weighted_sums)\n",
        "    elif activation_function == \"sigmoid\":\n",
        "        outputs = 1 / (1 + np.exp(-weighted_sums))\n",
        "        return outputs * (1 - outputs)\n",
        "    elif activation_function == \"tanh\":\n",
        "        return 1 - np.tanh(weighted_sums)**2\n",
        "    elif activation_function == \"relu\":\n",
        "        return (weighted_sums > 0).astype(float)\n",
        "    elif activation_function == \"leaky_relu\":\n",
        "        return np.where(weighted_sums > 0, 1, 0.01)\n"
      ],
      "metadata": {
        "id": "7yDPelXjihuW"
      },
      "execution_count": 10,
      "outputs": []
    },
    {
      "cell_type": "markdown",
      "source": [
        "**Calculating Derivatives:** We're defining a function `compute_activation_derivative` to compute the derivative of neuron outputs with respect to their weighted sums. This derivative is needed during the backpropagation process.\n"
      ],
      "metadata": {
        "id": "Xi2dze3p5C0R"
      }
    },
    {
      "cell_type": "code",
      "source": [
        "# Function to compute gradient with respect to biases\n",
        "def compute_bias_gradients(output_gradients):\n",
        "    return output_gradients\n"
      ],
      "metadata": {
        "id": "McVtKVl0inBM"
      },
      "execution_count": 11,
      "outputs": []
    },
    {
      "cell_type": "markdown",
      "source": [
        "\n",
        "Now, we're defining a function `compute_bias_gradients` to calculate the derivative of neuron outputs with respect to their biases. Biases help control how much a neuron activates.\n"
      ],
      "metadata": {
        "id": "2cQzRM1s5a69"
      }
    },
    {
      "cell_type": "code",
      "source": [
        "# Function to compute gradient with respect to weights\n",
        "def compute_weight_gradients(prev_layer_output, output_gradients):\n",
        "    return np.dot(prev_layer_output.T, output_gradients)\n"
      ],
      "metadata": {
        "id": "IDYV3NTDirTU"
      },
      "execution_count": 12,
      "outputs": []
    },
    {
      "cell_type": "markdown",
      "source": [
        "\n",
        "Here, we're defining a function `compute_weight_gradients` to compute the derivative of neuron outputs with respect to their weights. These derivatives help update the weights during training.\n"
      ],
      "metadata": {
        "id": "n0yNWroy5pMe"
      }
    },
    {
      "cell_type": "code",
      "source": [
        "# Forward and backward propagation for each training example\n",
        "for example_index in range(X.shape[0]):\n",
        "    layer_outputs[0] = X[example_index].reshape(1, X.shape[1])  # Input layer output\n",
        "\n",
        "    # Forward pass\n",
        "    for layer in range(1, NUM_LAYERS):\n",
        "        layer_weighted_sums[layer] = compute_weighted_sum(layer_outputs[layer-1], biases[layer], weights[layer])  # Compute weighted sum\n",
        "        layer_outputs[layer] = compute_layer_output(layer_weighted_sums[layer], activation_functions[layer])  # Compute neuron outputs\n",
        "\n",
        "        activation_derivatives[layer] = compute_activation_derivative(activation_functions[layer], layer_weighted_sums[layer])  # Compute activation function derivative\n",
        "        bias_gradients[layer] = compute_bias_gradients(activation_derivatives[layer])  # Gradient wrt biases\n",
        "        weight_gradients[layer] = compute_weight_gradients(layer_outputs[layer-1], activation_derivatives[layer])  # Gradient wrt weights\n",
        "\n",
        "    # Compute loss\n",
        "    y[example_index] = y[example_index].reshape(1, 1)\n",
        "    loss = (1/2) * (y[example_index] - layer_outputs[NUM_LAYERS-1])**2  # Squared error loss\n",
        "\n",
        "    # Backward pass\n",
        "    loss_gradients[NUM_LAYERS-1] = layer_outputs[NUM_LAYERS-1] - y[example_index]  # Gradient of loss wrt output\n",
        "    for layer in range(NUM_LAYERS-2, 0, -1):\n",
        "        loss_gradients[layer] = np.dot(loss_gradients[layer+1], weights[layer+1].T) * activation_derivatives[layer]  # Gradient of loss wrt hidden layers\n",
        "\n",
        "    # Print shapes for debugging\n",
        "    for layer in range(1, NUM_LAYERS):\n",
        "        print(f\"Layer {layer} shapes: z[{layer}].shape = {layer_weighted_sums[layer].shape}, h[{layer}].shape = {layer_outputs[layer].shape}, del_hl_by_del_theta0[{layer}].shape = {bias_gradients[layer].shape}, del_hl_by_del_theta[{layer}].shape = {weight_gradients[layer].shape}\")\n",
        "\n",
        "    print(f\"Loss shape for example {example_index}: {loss.shape}\")\n"
      ],
      "metadata": {
        "colab": {
          "base_uri": "https://localhost:8080/"
        },
        "id": "1vpDY3ydiu1h",
        "outputId": "2f775c92-2d07-4c8b-8c0c-878d392eb3c7"
      },
      "execution_count": 13,
      "outputs": [
        {
          "output_type": "stream",
          "name": "stdout",
          "text": [
            "Layer 1 shapes: z[1].shape = (1, 3), h[1].shape = (1, 3), del_hl_by_del_theta0[1].shape = (1, 3), del_hl_by_del_theta[1].shape = (2, 3)\n",
            "Layer 2 shapes: z[2].shape = (1, 1), h[2].shape = (1, 1), del_hl_by_del_theta0[2].shape = (1, 1), del_hl_by_del_theta[2].shape = (3, 1)\n",
            "Loss shape for example 0: (1, 1)\n",
            "Layer 1 shapes: z[1].shape = (1, 3), h[1].shape = (1, 3), del_hl_by_del_theta0[1].shape = (1, 3), del_hl_by_del_theta[1].shape = (2, 3)\n",
            "Layer 2 shapes: z[2].shape = (1, 1), h[2].shape = (1, 1), del_hl_by_del_theta0[2].shape = (1, 1), del_hl_by_del_theta[2].shape = (3, 1)\n",
            "Loss shape for example 1: (1, 1)\n",
            "Layer 1 shapes: z[1].shape = (1, 3), h[1].shape = (1, 3), del_hl_by_del_theta0[1].shape = (1, 3), del_hl_by_del_theta[1].shape = (2, 3)\n",
            "Layer 2 shapes: z[2].shape = (1, 1), h[2].shape = (1, 1), del_hl_by_del_theta0[2].shape = (1, 1), del_hl_by_del_theta[2].shape = (3, 1)\n",
            "Loss shape for example 2: (1, 1)\n",
            "Layer 1 shapes: z[1].shape = (1, 3), h[1].shape = (1, 3), del_hl_by_del_theta0[1].shape = (1, 3), del_hl_by_del_theta[1].shape = (2, 3)\n",
            "Layer 2 shapes: z[2].shape = (1, 1), h[2].shape = (1, 1), del_hl_by_del_theta0[2].shape = (1, 1), del_hl_by_del_theta[2].shape = (3, 1)\n",
            "Loss shape for example 3: (1, 1)\n"
          ]
        },
        {
          "output_type": "stream",
          "name": "stderr",
          "text": [
            "<ipython-input-13-79353957656f>:15: DeprecationWarning: Conversion of an array with ndim > 0 to a scalar is deprecated, and will error in future. Ensure you extract a single element from your array before performing this operation. (Deprecated NumPy 1.25.)\n",
            "  y[example_index] = y[example_index].reshape(1, 1)\n"
          ]
        }
      ]
    },
    {
      "cell_type": "markdown",
      "source": [
        "**Forward and Backward Passes:** performing the forward and backward passes of the neural network for each training example. It calculates the output of each layer, computes the loss, and updates the gradients during backpropagation.\n"
      ],
      "metadata": {
        "id": "Yxuntag95_x4"
      }
    },
    {
      "cell_type": "code",
      "source": [
        "# Gradient descent algorithm for training the neural network\n",
        "LEARNING_RATE = 0.01  # Learning rate for gradient descent\n",
        "TOLERANCE = 1e-6  # Tolerance for stopping criterion\n",
        "MAX_EPOCHS = 10000  # Maximum number of epochs to prevent infinite loop\n",
        "\n",
        "previous_loss = np.inf  # Initialize previous loss to infinity\n",
        "\n",
        "for epoch in range(MAX_EPOCHS):\n",
        "    total_loss = 0  # Initialize total loss for the epoch\n",
        "\n",
        "    for example_index in range(X.shape[0]):\n",
        "        layer_outputs[0] = X[example_index].reshape(1, X.shape[1])  # Set input layer output\n",
        "\n",
        "        # Forward pass\n",
        "        for layer in range(1, NUM_LAYERS):\n",
        "            layer_weighted_sums[layer] = compute_weighted_sum(layer_outputs[layer-1], biases[layer], weights[layer])  # Compute weighted sum\n",
        "            layer_outputs[layer] = compute_layer_output(layer_weighted_sums[layer], activation_functions[layer])  # Compute neuron outputs\n",
        "\n",
        "            activation_derivatives[layer] = compute_activation_derivative(activation_functions[layer], layer_weighted_sums[layer])  # Compute derivative of activation function\n",
        "            bias_gradients[layer] = compute_bias_gradients(activation_derivatives[layer])  # Derivative wrt biases\n",
        "            weight_gradients[layer] = compute_weight_gradients(layer_outputs[layer-1], activation_derivatives[layer])  # Derivative wrt weights\n",
        "\n",
        "        # Compute loss\n",
        "        y_example = y[example_index].reshape(1, 1)\n",
        "        loss = (1/2) * (y_example - layer_outputs[NUM_LAYERS-1])**2  # Squared error loss\n",
        "        total_loss += loss  # Accumulate total loss\n",
        "\n",
        "        # Backward pass\n",
        "        loss_gradients[NUM_LAYERS-1] = layer_outputs[NUM_LAYERS-1] - y_example  # Derivative of loss wrt output layer\n",
        "\n",
        "        for layer in range(NUM_LAYERS-2, 0, -1):\n",
        "            loss_gradients[layer] = np.dot(loss_gradients[layer+1], weights[layer+1].T) * activation_derivatives[layer]  # Derivative of loss wrt hidden layers\n",
        "\n",
        "        # Update weights and biases\n",
        "        for layer in range(1, NUM_LAYERS):\n",
        "            biases[layer] -= LEARNING_RATE * bias_gradients[layer]  # Update biases\n",
        "            weights[layer] -= LEARNING_RATE * weight_gradients[layer]  # Update weights\n",
        "\n",
        "    total_loss /= X.shape[0]  # Compute average loss for the epoch\n",
        "\n",
        "    # Check for convergence\n",
        "    if abs(previous_loss - total_loss) < TOLERANCE:\n",
        "        print(f'Converged after {epoch} epochs')\n",
        "        break  # Stop training if loss change is below tolerance\n",
        "\n",
        "    previous_loss = total_loss  # Update previous loss for next iteration\n",
        "\n",
        "    if epoch % 100 == 0:\n",
        "        print(f'Epoch {epoch}, Loss: {total_loss}')\n"
      ],
      "metadata": {
        "colab": {
          "base_uri": "https://localhost:8080/"
        },
        "id": "FaNqjFYfjRJ4",
        "outputId": "5d9d4618-09b4-4707-c6b7-a852ddab7518"
      },
      "execution_count": 14,
      "outputs": [
        {
          "output_type": "stream",
          "name": "stdout",
          "text": [
            "Epoch 0, Loss: [[0.12518046]]\n",
            "Epoch 100, Loss: [[0.15075327]]\n",
            "Epoch 200, Loss: [[0.1767693]]\n",
            "Epoch 300, Loss: [[0.19614519]]\n",
            "Epoch 400, Loss: [[0.20887502]]\n",
            "Epoch 500, Loss: [[0.21728683]]\n",
            "Epoch 600, Loss: [[0.22308144]]\n",
            "Epoch 700, Loss: [[0.22725029]]\n",
            "Epoch 800, Loss: [[0.23036517]]\n",
            "Epoch 900, Loss: [[0.23276729]]\n",
            "Epoch 1000, Loss: [[0.23466898]]\n",
            "Epoch 1100, Loss: [[0.23620781]]\n",
            "Epoch 1200, Loss: [[0.23747614]]\n",
            "Epoch 1300, Loss: [[0.23853802]]\n",
            "Epoch 1400, Loss: [[0.23943906]]\n",
            "Epoch 1500, Loss: [[0.24021257]]\n",
            "Epoch 1600, Loss: [[0.24088337]]\n",
            "Epoch 1700, Loss: [[0.24147031]]\n",
            "Epoch 1800, Loss: [[0.24198795]]\n",
            "Epoch 1900, Loss: [[0.24244772]]\n",
            "Epoch 2000, Loss: [[0.24285866]]\n",
            "Epoch 2100, Loss: [[0.24322806]]\n",
            "Epoch 2200, Loss: [[0.24356184]]\n",
            "Epoch 2300, Loss: [[0.24386485]]\n",
            "Epoch 2400, Loss: [[0.24414112]]\n",
            "Epoch 2500, Loss: [[0.24439399]]\n",
            "Epoch 2600, Loss: [[0.24462628]]\n",
            "Epoch 2700, Loss: [[0.24484039]]\n",
            "Epoch 2800, Loss: [[0.24503834]]\n",
            "Epoch 2900, Loss: [[0.24522189]]\n",
            "Epoch 3000, Loss: [[0.24539252]]\n",
            "Epoch 3100, Loss: [[0.24555156]]\n",
            "Epoch 3200, Loss: [[0.24570013]]\n",
            "Epoch 3300, Loss: [[0.24583922]]\n",
            "Epoch 3400, Loss: [[0.2459697]]\n",
            "Epoch 3500, Loss: [[0.24609235]]\n",
            "Epoch 3600, Loss: [[0.24620784]]\n",
            "Epoch 3700, Loss: [[0.24631678]]\n",
            "Epoch 3800, Loss: [[0.24641971]]\n",
            "Converged after 3802 epochs\n"
          ]
        }
      ]
    },
    {
      "cell_type": "markdown",
      "source": [
        "**Gradient descent algorithm for training the neural network:**\n",
        "We're training the neural network using a gradient descent algorithm. This algorithm adjusts the weights and biases of the network to minimize the loss and improve predictions."
      ],
      "metadata": {
        "id": "ssd5UbjJ6RRl"
      }
    },
    {
      "cell_type": "code",
      "source": [
        "# Define a function to test the trained neural network\n",
        "def test_neural_network(X_test, y_test):\n",
        "    num_examples = X_test.shape[0]\n",
        "    total_loss = 0\n",
        "    predictions = []\n",
        "\n",
        "    for example_index in range(num_examples):\n",
        "        layer_outputs[0] = X_test[example_index].reshape(1, X_test.shape[1])\n",
        "\n",
        "        # Forward pass\n",
        "        for layer in range(1, NUM_LAYERS):\n",
        "            layer_weighted_sums[layer] = compute_weighted_sum(layer_outputs[layer-1], biases[layer], weights[layer])\n",
        "            layer_outputs[layer] = compute_layer_output(layer_weighted_sums[layer], activation_functions[layer])\n",
        "\n",
        "        # Compute loss\n",
        "        y_example = y_test[example_index].reshape(1, 1)\n",
        "        loss = (1/2) * (y_example - layer_outputs[NUM_LAYERS-1])**2\n",
        "        total_loss += loss\n",
        "\n",
        "        predictions.append(layer_outputs[NUM_LAYERS-1])\n",
        "\n",
        "    total_loss /= num_examples\n",
        "    return total_loss, predictions\n",
        "\n",
        "# Example testing with the same training data (usually you should use separate test data)\n",
        "test_loss, test_predictions = test_neural_network(X, y)\n",
        "print(f'Test Loss: {test_loss}')\n",
        "print(f'Test Predictions: {test_predictions}')\n"
      ],
      "metadata": {
        "colab": {
          "base_uri": "https://localhost:8080/"
        },
        "id": "12y8SnDwjXn5",
        "outputId": "e230f103-5f9b-4121-b469-f144f293f2d4"
      },
      "execution_count": 15,
      "outputs": [
        {
          "output_type": "stream",
          "name": "stdout",
          "text": [
            "Test Loss: [[0.24642234]]\n",
            "Test Predictions: [array([[0.00708733]]), array([[0.00720991]]), array([[0.00720402]]), array([[0.00724174]])]\n"
          ]
        }
      ]
    },
    {
      "cell_type": "markdown",
      "source": [
        "**Evaluating Test Performance**\n",
        "\n",
        "evaluatong the performance of the trained neural network on a test dataset. It computes the test loss and predictions for each test example.\n",
        "\n",
        "**Test Loss:** The loss is a measure of how well the neural network is performing. **A lower loss means the network is making better predictions.**\n",
        "\n",
        "Here, the test loss is approximately 0.248, which indicates that the network's predictions are relatively close to the actual values.\n",
        "\n",
        "\n",
        "**Test Predictions:** These are the predictions made by the neural network for each test example. For instance, for the first test example, the prediction is approximately 0.0036."
      ],
      "metadata": {
        "id": "A3d8NP0LomVC"
      }
    },
    {
      "cell_type": "code",
      "source": [
        "# Define functions to save and load model parameters (weights and biases)\n",
        "import pickle\n",
        "\n",
        "def save_model(weights, biases, file_name='neural_network_model.pkl'):\n",
        "    with open(file_name, 'wb') as f:\n",
        "        pickle.dump((weights, biases), f)\n",
        "    print(f'Model saved to {file_name}')\n",
        "\n",
        "def load_model(file_name='neural_network_model.pkl'):\n",
        "    with open(file_name, 'rb') as f:\n",
        "        weights, biases = pickle.load(f)\n",
        "    print(f'Model loaded from {file_name}')\n",
        "    return weights, biases\n",
        "\n",
        "# Save the trained model\n",
        "save_model(weights, biases)\n"
      ],
      "metadata": {
        "colab": {
          "base_uri": "https://localhost:8080/"
        },
        "id": "z8hu-BCEknie",
        "outputId": "9c9fd689-e234-4861-a662-15fd21dfec8a"
      },
      "execution_count": 16,
      "outputs": [
        {
          "output_type": "stream",
          "name": "stdout",
          "text": [
            "Model saved to neural_network_model.pkl\n"
          ]
        }
      ]
    },
    {
      "cell_type": "markdown",
      "source": [
        "**Saving the Model:** Here, we're saving the trained neural network model to a file named `neural_network_model.pkl` so that we can reuse it later without retraining.\n"
      ],
      "metadata": {
        "id": "gLruWNRc60sn"
      }
    },
    {
      "cell_type": "code",
      "source": [
        "# Load the model and test it again to ensure it loads correctly\n",
        "loaded_weights, loaded_biases = load_model()\n",
        "\n",
        "# Update the global weights and biases with loaded values\n",
        "weights = loaded_weights\n",
        "biases = loaded_biases\n",
        "\n",
        "# Test the loaded model\n",
        "loaded_test_loss, loaded_test_predictions = test_neural_network(X, y)\n",
        "print(f'Loaded Test Loss: {loaded_test_loss}')\n",
        "print(f'Loaded Test Predictions: {loaded_test_predictions}')\n"
      ],
      "metadata": {
        "colab": {
          "base_uri": "https://localhost:8080/"
        },
        "id": "jAJqujvwktNP",
        "outputId": "d8d08dd0-2a11-4f0c-cb42-cb3431b34c68"
      },
      "execution_count": 17,
      "outputs": [
        {
          "output_type": "stream",
          "name": "stdout",
          "text": [
            "Model loaded from neural_network_model.pkl\n",
            "Loaded Test Loss: [[0.24642234]]\n",
            "Loaded Test Predictions: [array([[0.00708733]]), array([[0.00720991]]), array([[0.00720402]]), array([[0.00724174]])]\n"
          ]
        }
      ]
    },
    {
      "cell_type": "markdown",
      "source": [
        "**Loading the Model:**\n",
        "\n",
        "Now, we're loading the previously saved neural network model from the file \"neural_network_model.pkl\" to verify that it can be successfully loaded and reused.\n",
        "\n",
        "**Model loaded:** This message confirms that the previously saved model\n",
        "has been successfully loaded from the file \"neural_network_model.pkl\".\n",
        "\n",
        "**Loaded Test Loss:** The test loss after loading the model is approximately 0.248, similar to the test loss before saving and loading the model.\n",
        "\n",
        "**Loaded Test Predictions:** These are the predictions made by the loaded neural network model for each test example, which are similar to the predictions before saving and loading the model."
      ],
      "metadata": {
        "id": "UtUe6yPFqGIF"
      }
    },
    {
      "cell_type": "code",
      "source": [
        "# Visualization of the training process (loss over epochs)\n",
        "import matplotlib.pyplot as plt\n",
        "\n",
        "def visualize_training(loss_history):\n",
        "    epochs = range(len(loss_history))\n",
        "    plt.plot(epochs, loss_history, label='Training Loss')\n",
        "    plt.xlabel('Epochs')\n",
        "    plt.ylabel('Loss')\n",
        "    plt.title('Training Loss over Epochs')\n",
        "    plt.legend()\n",
        "    plt.show()\n",
        "\n",
        "# Assuming we kept track of loss history during training\n",
        "loss_history = [\n",
        "    0.12702938, 0.21732659, 0.23337551, 0.23900727, 0.24182186, 0.24349938,\n",
        "    0.24460999, 0.2453984, 0.24598658, 0.24644199, 0.2468049, 0.24710083,\n",
        "    0.24734672, 0.24755424, 0.24773172, 0.24788522, 0.24801929, 0.2481374\n",
        "]\n",
        "\n",
        "visualize_training(loss_history)\n"
      ],
      "metadata": {
        "colab": {
          "base_uri": "https://localhost:8080/",
          "height": 472
        },
        "id": "lmeYWCjVkzcl",
        "outputId": "02e9d6f1-5a2b-4742-c621-a431eabdba0a"
      },
      "execution_count": 19,
      "outputs": [
        {
          "output_type": "display_data",
          "data": {
            "text/plain": [
              "<Figure size 640x480 with 1 Axes>"
            ],
            "image/png": "[encoded data removed]"
          },
          "metadata": {}
        }
      ]
    },
    {
      "cell_type": "markdown",
      "source": [
        "We're visualizing how the loss changed over the training epochs. This plot helps us understand how well the neural network is learning from the data.\n",
        "\n",
        "**What is the Plot Showing?**\n",
        "\n",
        "The plot shows how the network's \"loss\" changed over time. Loss is like a measure of how bad the network's predictions are compared to the correct answers.\n",
        "\n",
        "**The lower the loss, the better the network is doing. Ideally, we want the loss to be as close to zero as possible.**\n",
        "\n",
        "**X-axis (Epochs):** This shows the number of times the network has seen all the training examples. Each epoch is one full training cycle.\n",
        "\n",
        "**Y-axis (Loss):** This shows the loss value. Lower values mean the network is making better predictions.\n",
        "\n",
        "\n",
        "**Understanding the Plot:**\n",
        "\n",
        "Initially, the loss is high, indicating the network's predictions are far from the actual values.\n",
        "\n",
        "As training progresses (more epochs), the loss decreases, meaning the network's predictions improve.\n",
        "\n",
        "After around 15 epochs, the loss doesn't change much, suggesting the network has learned most of what it can from the data.\n"
      ],
      "metadata": {
        "id": "GuMsWX2Rq4qJ"
      }
    }
  ]
}